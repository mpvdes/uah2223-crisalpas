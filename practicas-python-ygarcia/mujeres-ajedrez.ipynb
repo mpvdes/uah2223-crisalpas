{
 "cells": [
  {
   "cell_type": "code",
   "execution_count": 1,
   "id": "26434353",
   "metadata": {},
   "outputs": [],
   "source": [
    "import pandas as pd"
   ]
  },
  {
   "cell_type": "code",
   "execution_count": 2,
   "id": "ead45455",
   "metadata": {},
   "outputs": [
    {
     "name": "stdout",
     "output_type": "stream",
     "text": [
      "         ID Number                  Name  Fed Sex  Tit WTit OTit  FOA   SRtng  \\\n",
      "0         94779929                   NaN  ESP   M  NaN  NaN  NaN  NaN     NaN   \n",
      "1         19605692                   NaN  MTN   M  NaN  NaN  NaN  NaN     NaN   \n",
      "2         19605790                   NaN  MTN   M  NaN  NaN  NaN  NaN     NaN   \n",
      "3         10688862  A Abdel Maabod, Hoda  EGY   F  NaN  NaN  NaN  NaN     NaN   \n",
      "4         33496722                A Aman  IND   M  NaN  NaN  NaN  NaN     NaN   \n",
      "...            ...                   ...  ...  ..  ...  ...  ...  ...     ...   \n",
      "1222452   21052492           Zyzik, Adam  POL   M  NaN  NaN  NaN  NaN     NaN   \n",
      "1222453   21045437    Zyzniewski, Tomasz  POL   M  NaN  NaN  NaN  NaN     NaN   \n",
      "1222454   21857814   Zyznowska, Marianna  POL   F  NaN  NaN  NaN  NaN  1150.0   \n",
      "1222455   41854446          Zyzyk, Piotr  POL   M  NaN  NaN  NaN  NaN     NaN   \n",
      "1222456   10019243          Zziwa Ismail  UGA   M  NaN  NaN  NaN  NaN     NaN   \n",
      "\n",
      "         SGm    SK   RRtng  RGm    Rk  BRtng  BGm  BK  B-day Flag  \n",
      "0        NaN   NaN     NaN  NaN   NaN    NaN  NaN NaN      0  NaN  \n",
      "1        NaN   NaN     NaN  NaN   NaN    NaN  NaN NaN      0  NaN  \n",
      "2        NaN   NaN     NaN  NaN   NaN    NaN  NaN NaN      0  NaN  \n",
      "3        NaN   NaN     NaN  NaN   NaN    NaN  NaN NaN   2009    w  \n",
      "4        NaN   NaN     NaN  NaN   NaN    NaN  NaN NaN   1996  NaN  \n",
      "...      ...   ...     ...  ...   ...    ...  ...  ..    ...  ...  \n",
      "1222452  NaN   NaN     NaN  NaN   NaN    NaN  NaN NaN   2010  NaN  \n",
      "1222453  NaN   NaN     NaN  NaN   NaN    NaN  NaN NaN   1988  NaN  \n",
      "1222454  0.0  40.0  1072.0  0.0  20.0    NaN  NaN NaN   2004   wi  \n",
      "1222455  NaN   NaN     NaN  NaN   NaN    NaN  NaN NaN   2014  NaN  \n",
      "1222456  NaN   NaN     NaN  NaN   NaN    NaN  NaN NaN   2009  NaN  \n",
      "\n",
      "[1222457 rows x 19 columns]\n"
     ]
    }
   ],
   "source": [
    "# read text file\n",
    "df = pd.read_fwf('/Users/crisa/Downloads/players_list_foa.txt')\n",
    "# preview text file\n",
    "print(df)"
   ]
  },
  {
   "cell_type": "code",
   "execution_count": 3,
   "id": "61f99831",
   "metadata": {},
   "outputs": [
    {
     "name": "stdout",
     "output_type": "stream",
     "text": [
      "NaN    814312\n",
      "i      223804\n",
      "w      156134\n",
      "wi      28207\n",
      "Name: Flag, dtype: int64\n"
     ]
    }
   ],
   "source": [
    "df3 = df['Flag'].value_counts(dropna=False)\n",
    "\n",
    "print(df3)"
   ]
  },
  {
   "cell_type": "code",
   "execution_count": 4,
   "id": "1fed1b89",
   "metadata": {},
   "outputs": [
    {
     "data": {
      "text/plain": [
       "1038116"
      ]
     },
     "execution_count": 4,
     "metadata": {},
     "output_type": "execute_result"
    }
   ],
   "source": [
    "814312+223804\n"
   ]
  },
  {
   "cell_type": "code",
   "execution_count": 5,
   "id": "99051e87",
   "metadata": {},
   "outputs": [
    {
     "data": {
      "text/plain": [
       "184341"
      ]
     },
     "execution_count": 5,
     "metadata": {},
     "output_type": "execute_result"
    }
   ],
   "source": [
    "156134+28207\n"
   ]
  },
  {
   "cell_type": "code",
   "execution_count": 13,
   "id": "0e8954cd",
   "metadata": {},
   "outputs": [
    {
     "name": "stdout",
     "output_type": "stream",
     "text": [
      "         ID Number                      Name  Fed Sex  Tit WTit OTit  FOA  \\\n",
      "10        25121731                A C J John  IND   M  NaN  NaN  NaN  NaN   \n",
      "11        35077023            A Chakravarthy  IND   M  NaN  NaN  NaN  NaN   \n",
      "12        10207538          A E M, Doshtagir  BAN   M  NaN  NaN  NaN  NaN   \n",
      "17        10680810  A hamed Ashraf, Abdallah  EGY   M  NaN  NaN  NaN  NaN   \n",
      "18         5716365           A Hamid, Harman  MAS   M  NaN  NaN  NaN  NaN   \n",
      "...            ...                       ...  ...  ..  ...  ...  ...  ...   \n",
      "1222417    4126076              Zytner, Yury  RUS   M  NaN  NaN  NaN  NaN   \n",
      "1222418   41801997               Zyto, Borys  POL   M  NaN  NaN  NaN  NaN   \n",
      "1222422   34190632            Zyubin, Sergey  RUS   M  NaN  NaN  NaN  NaN   \n",
      "1222428   24232602             Zyuzev, Pavel  RUS   M  NaN  NaN  NaN  NaN   \n",
      "1222441    1189980            Zywert, Kacper  POL   M  NaN  NaN  NaN  NaN   \n",
      "\n",
      "          SRtng  SGm    SK   RRtng  RGm    Rk   BRtng  BGm    BK  B-day Flag  \n",
      "10       1063.0  0.0  40.0     NaN  NaN   NaN     NaN  NaN   NaN   1987    i  \n",
      "11       1151.0  0.0  40.0     NaN  NaN   NaN     NaN  NaN   NaN   1986    i  \n",
      "12       1840.0  0.0  40.0  1836.0  0.0  20.0  1860.0  0.0  20.0   1974    i  \n",
      "17       1728.0  0.0  40.0     NaN  NaN   NaN  1741.0  0.0  20.0   2001    i  \n",
      "18       1325.0  0.0  40.0  1593.0  0.0  20.0     NaN  NaN   NaN   1970    i  \n",
      "...         ...  ...   ...     ...  ...   ...     ...  ...   ...    ...  ...  \n",
      "1222417  2261.0  0.0  20.0     NaN  NaN   NaN     NaN  NaN   NaN   1957    i  \n",
      "1222418  1065.0  0.0  40.0  1080.0  0.0  20.0  1061.0  0.0  20.0   2001    i  \n",
      "1222422  1884.0  0.0  40.0     NaN  NaN   NaN     NaN  NaN   NaN   1975    i  \n",
      "1222428  1856.0  0.0  40.0     NaN  NaN   NaN     NaN  NaN   NaN   1993    i  \n",
      "1222441  1519.0  0.0  20.0  1576.0  0.0  20.0  1607.0  0.0  20.0   1999    i  \n",
      "\n",
      "[223804 rows x 19 columns]\n"
     ]
    }
   ],
   "source": [
    "df3 = df.query(\"Flag == 'i'\")\n",
    "\n",
    "print(df3)"
   ]
  },
  {
   "cell_type": "code",
   "execution_count": 15,
   "id": "1017def4",
   "metadata": {},
   "outputs": [
    {
     "name": "stdout",
     "output_type": "stream",
     "text": [
      "Sex  Fed\n",
      "M    AFG     72\n",
      "     AHO     26\n",
      "     ALB    159\n",
      "     ALG    431\n",
      "     AND     31\n",
      "           ... \n",
      "     VIE    358\n",
      "     WLS    203\n",
      "     YEM     87\n",
      "     ZAM    566\n",
      "     ZIM    176\n",
      "Length: 192, dtype: int64\n"
     ]
    }
   ],
   "source": [
    "count2 = df3.groupby(['Sex', 'Fed']).size()\n",
    "\n",
    "print(count2)"
   ]
  },
  {
   "cell_type": "code",
   "execution_count": 16,
   "id": "d5e68ee6",
   "metadata": {},
   "outputs": [],
   "source": [
    "count2.to_csv(r'C:\\Users\\crisa\\Downloads\\inactive_man_per_fed.csv', header=True)"
   ]
  },
  {
   "cell_type": "code",
   "execution_count": 17,
   "id": "17b8bf98",
   "metadata": {},
   "outputs": [
    {
     "name": "stdout",
     "output_type": "stream",
     "text": [
      "         ID Number                  Name  Fed Sex  Tit WTit OTit  FOA   SRtng  \\\n",
      "29         8605360        A La, Teng Hua  CHN   F  NaN  NaN  NaN  NaN  1915.0   \n",
      "60         5080444             A, Sohita  IND   F  NaN  NaN  NaN  NaN  1447.0   \n",
      "210       46616845       Aadharshini K J  IND   F  NaN  NaN  NaN  NaN  1289.0   \n",
      "519       45067970  Aadya Yatin Gaitonde  IND   F  NaN  NaN  NaN  NaN  1098.0   \n",
      "597       10205640       Aahelee, Sarker  BAN   F  NaN  NaN  NaN  NaN  1720.0   \n",
      "...            ...                   ...  ...  ..  ...  ...  ...  ...     ...   \n",
      "1222307   13711172         Zykova, Darya  KAZ   F  NaN  NaN  NaN  NaN  1553.0   \n",
      "1222308   34300503         Zykova, Julia  RUS   F  NaN  NaN  NaN  NaN  1396.0   \n",
      "1222314    1124102           Zyla, Agata  POL   F  NaN  NaN  NaN  NaN  1578.0   \n",
      "1222404    1170023         Zysko, Teresa  POL   F  NaN  NaN  NaN  NaN  1753.0   \n",
      "1222454   21857814   Zyznowska, Marianna  POL   F  NaN  NaN  NaN  NaN  1150.0   \n",
      "\n",
      "         SGm    SK   RRtng  RGm    Rk   BRtng  BGm    BK  B-day Flag  \n",
      "29       0.0  40.0     NaN  NaN   NaN     NaN  NaN   NaN   1993   wi  \n",
      "60       0.0  40.0     NaN  NaN   NaN     NaN  NaN   NaN   1995   wi  \n",
      "210      0.0  40.0     NaN  NaN   NaN     NaN  NaN   NaN   2000   wi  \n",
      "519      0.0  40.0  1088.0  0.0  40.0     NaN  NaN   NaN   2006   wi  \n",
      "597      0.0  20.0  1620.0  0.0  20.0     NaN  NaN   NaN      0   wi  \n",
      "...      ...   ...     ...  ...   ...     ...  ...   ...    ...  ...  \n",
      "1222307  0.0  20.0  1525.0  0.0  20.0  1486.0  0.0  20.0   1999   wi  \n",
      "1222308  0.0  40.0     NaN  NaN   NaN     NaN  NaN   NaN   2000   wi  \n",
      "1222314  0.0  20.0  1555.0  0.0  20.0     NaN  NaN   NaN   1996   wi  \n",
      "1222404  0.0  20.0     NaN  NaN   NaN     NaN  NaN   NaN   1987   wi  \n",
      "1222454  0.0  40.0  1072.0  0.0  20.0     NaN  NaN   NaN   2004   wi  \n",
      "\n",
      "[28207 rows x 19 columns]\n"
     ]
    }
   ],
   "source": [
    "df4 = df.query(\"Flag == 'wi'\")\n",
    "\n",
    "print(df4)"
   ]
  },
  {
   "cell_type": "code",
   "execution_count": 18,
   "id": "1e200b10",
   "metadata": {},
   "outputs": [
    {
     "name": "stdout",
     "output_type": "stream",
     "text": [
      "Sex  Fed\n",
      "F    AFG      1\n",
      "     AHO      6\n",
      "     ALB      8\n",
      "     ALG     72\n",
      "     AND      3\n",
      "           ... \n",
      "     VIE    200\n",
      "     WLS     31\n",
      "     YEM     10\n",
      "     ZAM     41\n",
      "     ZIM     48\n",
      "Length: 164, dtype: int64\n"
     ]
    }
   ],
   "source": [
    "count3 = df4.groupby(['Sex', 'Fed']).size()\n",
    "\n",
    "print(count3)"
   ]
  },
  {
   "cell_type": "code",
   "execution_count": 19,
   "id": "29512061",
   "metadata": {},
   "outputs": [],
   "source": [
    "count3.to_csv(r'C:\\Users\\crisa\\Downloads\\inactive_woman_per_fed.csv', header=True)"
   ]
  },
  {
   "cell_type": "code",
   "execution_count": 14,
   "id": "7b013afa",
   "metadata": {},
   "outputs": [
    {
     "data": {
      "text/plain": [
       "M    223804\n",
       "Name: Sex, dtype: int64"
      ]
     },
     "execution_count": 14,
     "metadata": {},
     "output_type": "execute_result"
    }
   ],
   "source": [
    "df3['Sex'].value_countscounts()"
   ]
  },
  {
   "cell_type": "code",
   "execution_count": 12,
   "id": "9e044893",
   "metadata": {},
   "outputs": [
    {
     "name": "stdout",
     "output_type": "stream",
     "text": [
      "M    1038116\n",
      "F     184341\n",
      "Name: Sex, dtype: int64\n"
     ]
    }
   ],
   "source": [
    "df2 = df['Sex'].value_counts()\n",
    "\n",
    "print(df2)"
   ]
  },
  {
   "cell_type": "code",
   "execution_count": 48,
   "id": "38abc342",
   "metadata": {
    "scrolled": true
   },
   "outputs": [
    {
     "name": "stdout",
     "output_type": "stream",
     "text": [
      "     ID Number     Name      Fed    Tit  WTit  OTit   FOA   SRtng     SGm  \\\n",
      "Sex                                                                         \n",
      "F       184341   184341   184341   4125  4096   358   209   44913   44913   \n",
      "M      1038116  1038113  1038116  16421     2  1697  4299  369149  369149   \n",
      "\n",
      "         SK   RRtng     RGm      Rk   BRtng     BGm      BK    B-day    Flag  \n",
      "Sex                                                                           \n",
      "F     44029   27645   27645   27645   20183   20183   20183   184341  184341  \n",
      "M    367324  230721  230721  230721  160917  160917  160917  1038116  223804  \n"
     ]
    }
   ],
   "source": [
    "df1 = df.groupby('Sex').count()\n",
    "\n",
    "print(df1)"
   ]
  },
  {
   "cell_type": "code",
   "execution_count": 49,
   "id": "9aeb4398",
   "metadata": {},
   "outputs": [],
   "source": [
    "df4 = df.groupby('Fed').count()"
   ]
  },
  {
   "cell_type": "code",
   "execution_count": 51,
   "id": "b33dae5d",
   "metadata": {},
   "outputs": [
    {
     "name": "stdout",
     "output_type": "stream",
     "text": [
      "M    1038116\n",
      "F     184341\n",
      "Name: Sex, dtype: int64\n"
     ]
    }
   ],
   "source": [
    "df3 = df['Sex'].value_counts(dropna=False)\n",
    "\n",
    "print(df3)"
   ]
  },
  {
   "cell_type": "code",
   "execution_count": 27,
   "id": "4492f1cf",
   "metadata": {},
   "outputs": [
    {
     "data": {
      "text/plain": [
       "1222457"
      ]
     },
     "execution_count": 27,
     "metadata": {},
     "output_type": "execute_result"
    }
   ],
   "source": [
    "1038116+184341"
   ]
  },
  {
   "cell_type": "code",
   "execution_count": 29,
   "id": "51a6d326",
   "metadata": {},
   "outputs": [
    {
     "data": {
      "text/plain": [
       "15.079548810305802"
      ]
     },
     "execution_count": 29,
     "metadata": {},
     "output_type": "execute_result"
    }
   ],
   "source": [
    "184341/1222457*100"
   ]
  },
  {
   "cell_type": "code",
   "execution_count": 53,
   "id": "f614f3a2",
   "metadata": {
    "scrolled": true
   },
   "outputs": [
    {
     "name": "stdout",
     "output_type": "stream",
     "text": [
      "Sex  Fed\n",
      "F    AFG      11\n",
      "     AHO      55\n",
      "     ALB     105\n",
      "     ALG     854\n",
      "     AND      21\n",
      "            ... \n",
      "M    VIN      14\n",
      "     WLS     618\n",
      "     YEM     533\n",
      "     ZAM    2314\n",
      "     ZIM    1063\n",
      "Length: 402, dtype: int64\n"
     ]
    }
   ],
   "source": [
    "count1 = df.groupby(['Sex', 'Fed']).size()\n",
    "\n",
    "print(count1)"
   ]
  },
  {
   "cell_type": "code",
   "execution_count": 54,
   "id": "b75fb118",
   "metadata": {},
   "outputs": [],
   "source": [
    "df = pd.DataFrame(count1)"
   ]
  },
  {
   "cell_type": "code",
   "execution_count": 55,
   "id": "0bcf6995",
   "metadata": {},
   "outputs": [],
   "source": [
    "df.to_csv(r'C:\\Users\\crisa\\Downloads\\export_dataframe1.csv', header=True)"
   ]
  }
 ],
 "metadata": {
  "kernelspec": {
   "display_name": "Python 3 (ipykernel)",
   "language": "python",
   "name": "python3"
  },
  "language_info": {
   "codemirror_mode": {
    "name": "ipython",
    "version": 3
   },
   "file_extension": ".py",
   "mimetype": "text/x-python",
   "name": "python",
   "nbconvert_exporter": "python",
   "pygments_lexer": "ipython3",
   "version": "3.11.1"
  }
 },
 "nbformat": 4,
 "nbformat_minor": 5
}
