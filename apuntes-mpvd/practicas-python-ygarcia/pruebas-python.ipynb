{
 "cells": [
  {
   "cell_type": "markdown",
   "id": "7c978a6a",
   "metadata": {},
   "source": [
    "# Primeras pruebas con Jupyter y Python"
   ]
  },
  {
   "cell_type": "markdown",
   "id": "974ff5b3",
   "metadata": {},
   "source": [
    "En Jupyter, podemos escribir títulos, subtítulos y texto normal, pero también código. "
   ]
  },
  {
   "cell_type": "code",
   "execution_count": 4,
   "id": "e1ec2d0f",
   "metadata": {},
   "outputs": [],
   "source": [
    "#pip install pandas"
   ]
  },
  {
   "cell_type": "code",
   "execution_count": 5,
   "id": "acd4974b",
   "metadata": {},
   "outputs": [],
   "source": [
    "#!ls"
   ]
  },
  {
   "cell_type": "code",
   "execution_count": 6,
   "id": "52167f01",
   "metadata": {},
   "outputs": [],
   "source": [
    "#!python --version"
   ]
  },
  {
   "cell_type": "code",
   "execution_count": 7,
   "id": "6bc28cb3",
   "metadata": {},
   "outputs": [
    {
     "data": {
      "text/plain": [
       "11"
      ]
     },
     "execution_count": 7,
     "metadata": {},
     "output_type": "execute_result"
    }
   ],
   "source": [
    "6+5"
   ]
  },
  {
   "cell_type": "code",
   "execution_count": 8,
   "id": "74f51c7b",
   "metadata": {},
   "outputs": [],
   "source": [
    "#Las celdas de código se pueden ejecutar y te dan un resultado in y otro out."
   ]
  },
  {
   "cell_type": "code",
   "execution_count": 9,
   "id": "c855cd1b",
   "metadata": {},
   "outputs": [],
   "source": [
    "#Vamos a trabajar con números enteros (int) y decimales (float).\n",
    "#Estos últimos siempre se separan con puntos."
   ]
  },
  {
   "cell_type": "code",
   "execution_count": 10,
   "id": "71686477",
   "metadata": {},
   "outputs": [
    {
     "data": {
      "text/plain": [
       "17.058"
      ]
     },
     "execution_count": 10,
     "metadata": {},
     "output_type": "execute_result"
    }
   ],
   "source": [
    "7.8+9.258"
   ]
  },
  {
   "cell_type": "code",
   "execution_count": null,
   "id": "47e593be",
   "metadata": {},
   "outputs": [],
   "source": []
  }
 ],
 "metadata": {
  "kernelspec": {
   "display_name": "Python 3 (ipykernel)",
   "language": "python",
   "name": "python3"
  },
  "language_info": {
   "codemirror_mode": {
    "name": "ipython",
    "version": 3
   },
   "file_extension": ".py",
   "mimetype": "text/x-python",
   "name": "python",
   "nbconvert_exporter": "python",
   "pygments_lexer": "ipython3",
   "version": "3.11.1"
  }
 },
 "nbformat": 4,
 "nbformat_minor": 5
}
