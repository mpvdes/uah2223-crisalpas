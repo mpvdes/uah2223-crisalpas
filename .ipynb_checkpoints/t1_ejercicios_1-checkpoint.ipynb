{
 "cells": [
  {
   "cell_type": "markdown",
   "metadata": {},
   "source": [
    "# Ejercicios\n",
    "\n",
    "Expresiones en Python, el tipo string."
   ]
  },
  {
   "cell_type": "markdown",
   "metadata": {},
   "source": [
    "## Ejercicio 1"
   ]
  },
  {
   "cell_type": "markdown",
   "metadata": {},
   "source": [
    "Escribe el código Python que representa la siguiente expresión:\n",
    "\n",
    "$$\\frac{3}{4} + 2 * ( 5^4 - \\frac{1}{2} )$$\n",
    "\n"
   ]
  },
  {
   "cell_type": "code",
   "execution_count": 1,
   "metadata": {},
   "outputs": [
    {
     "data": {
      "text/plain": [
       "1249.75"
      ]
     },
     "execution_count": 1,
     "metadata": {},
     "output_type": "execute_result"
    }
   ],
   "source": [
    "x = 3 / 4\n",
    "y = 5 ** 4 - 1/2\n",
    "x + 2 * y"
   ]
  },
  {
   "cell_type": "code",
   "execution_count": 2,
   "metadata": {},
   "outputs": [
    {
     "data": {
      "text/plain": [
       "1249.75"
      ]
     },
     "execution_count": 2,
     "metadata": {},
     "output_type": "execute_result"
    }
   ],
   "source": [
    "3/4 + 2 * (5**4 - 1/2)"
   ]
  },
  {
   "cell_type": "markdown",
   "metadata": {},
   "source": [
    "Escribe una función en Python llamada __valor_expresion__ que calcule el valor de la expresión:\n",
    "\n",
    "$$\\frac{3}{4} + 2 * ( x^4 - \\frac{1}{2} )$$\n",
    "\n",
    "para un cierto valor de $x$. La función tiene un único argumento posicional de tipo numérico y devuelve el resultado de aplicar la expresión anterior."
   ]
  },
  {
   "cell_type": "code",
   "execution_count": 3,
   "metadata": {
    "ExecuteTime": {
     "end_time": "2018-10-25T15:59:09.517334Z",
     "start_time": "2018-10-25T15:59:09.513371Z"
    }
   },
   "outputs": [],
   "source": [
    "def valor_expresion(x):\n",
    "    resultado = 3/4 + 2 * (x**4 - 1/2)\n",
    "    return resultado\n"
   ]
  },
  {
   "cell_type": "markdown",
   "metadata": {},
   "source": [
    "Ejecuta la función __valor_expresion__ para los valores 5 y 3. \n",
    "\n",
    "__Nota:__ \n",
    "\n",
    "* `valor_expresion(5)` devuelve como resultado `1249.75`\n",
    "* `valor_expresion(3)` devuelve como resultado `161.75`"
   ]
  },
  {
   "cell_type": "code",
   "execution_count": 4,
   "metadata": {
    "ExecuteTime": {
     "end_time": "2019-01-04T10:24:09.904689Z",
     "start_time": "2019-01-04T10:24:09.901714Z"
    }
   },
   "outputs": [
    {
     "data": {
      "text/plain": [
       "1249.75"
      ]
     },
     "execution_count": 4,
     "metadata": {},
     "output_type": "execute_result"
    }
   ],
   "source": [
    "valor_expresion(5)"
   ]
  },
  {
   "cell_type": "code",
   "execution_count": 5,
   "metadata": {},
   "outputs": [
    {
     "data": {
      "text/plain": [
       "161.75"
      ]
     },
     "execution_count": 5,
     "metadata": {},
     "output_type": "execute_result"
    }
   ],
   "source": [
    "valor_expresion(3)"
   ]
  },
  {
   "cell_type": "markdown",
   "metadata": {},
   "source": [
    "## Ejercicio 2"
   ]
  },
  {
   "cell_type": "markdown",
   "metadata": {},
   "source": [
    "Escribe una función en Python llamada __calcula_horas__ que calcule el número de horas completas hay en `m` minutos para un cierto valor de `m`. La función tiene un único argumento posicional de tipo entero (`int`) y devuelve el número de horas que también será entero.\n",
    "Para resolverlo usa la división entera (`//`)."
   ]
  },
  {
   "cell_type": "markdown",
   "metadata": {},
   "source": [
    "Ejecuta la función __calcula_horas__ para los valores 135 y 258. \n",
    "\n",
    "__Nota:__ \n",
    "\n",
    "* `calcula_horas(135)` devuelve como resultado `2`\n",
    "* `calcula_horas(258)` devuelve como resultado `4`"
   ]
  },
  {
   "cell_type": "code",
   "execution_count": 16,
   "metadata": {},
   "outputs": [],
   "source": [
    "def calcula_horas(m):\n",
    "    horas = m // 60\n",
    "    return horas"
   ]
  },
  {
   "cell_type": "code",
   "execution_count": 17,
   "metadata": {},
   "outputs": [
    {
     "data": {
      "text/plain": [
       "2"
      ]
     },
     "execution_count": 17,
     "metadata": {},
     "output_type": "execute_result"
    }
   ],
   "source": [
    "calcula_horas(135)"
   ]
  },
  {
   "cell_type": "code",
   "execution_count": 18,
   "metadata": {},
   "outputs": [
    {
     "data": {
      "text/plain": [
       "4"
      ]
     },
     "execution_count": 18,
     "metadata": {},
     "output_type": "execute_result"
    }
   ],
   "source": [
    "calcula_horas(258)"
   ]
  },
  {
   "cell_type": "markdown",
   "metadata": {},
   "source": [
    "## Ejercicio 3"
   ]
  },
  {
   "cell_type": "markdown",
   "metadata": {},
   "source": [
    "Escribe una función en Python llamada __calcula_horas_minutos__ que calcule el número de horas completas y minutos que hay en `m` minutos para un cierto valor de `m`. La función tiene un único argumento posicional de tipo entero (`int`) y devuelve dos valores: el número de horas que también será entero y el número de minutos.\n",
    "Para resolverlo usa la división entera (`//`) y la operación modulo (`%` resto de la división entera)."
   ]
  },
  {
   "cell_type": "markdown",
   "metadata": {},
   "source": [
    "__Nota:__ \n",
    "\n",
    "* `calcula_horas_minutos(135)` devuelve como resultado `(2, 15)`\n",
    "* `calcula_horas_minutos(258)` devuelve como resultado `(4, 18)`"
   ]
  },
  {
   "cell_type": "code",
   "execution_count": null,
   "metadata": {},
   "outputs": [],
   "source": [
    "# SOL:\n"
   ]
  },
  {
   "cell_type": "markdown",
   "metadata": {},
   "source": [
    "## Ejercicio 4"
   ]
  },
  {
   "cell_type": "markdown",
   "metadata": {},
   "source": [
    "La función `upper` del tipo string (`str`) genera una nueva cadena de caracteres, donde todos los caracteres son mayúsculas.\n",
    "Ejecuta la siguente celda para ver el efecto de la función `upper` al aplicarlo sobre la cadena `s`:"
   ]
  },
  {
   "cell_type": "code",
   "execution_count": 10,
   "metadata": {
    "ExecuteTime": {
     "end_time": "2019-01-04T11:16:22.586710Z",
     "start_time": "2019-01-04T11:16:22.579263Z"
    }
   },
   "outputs": [
    {
     "data": {
      "text/plain": [
       "'HOLA, ME LLAMO IÑIGO MONTOYA, TÚ MATASTE A MI PADRE. ... PREPÁRATE A MORIR'"
      ]
     },
     "execution_count": 10,
     "metadata": {},
     "output_type": "execute_result"
    }
   ],
   "source": [
    "s = 'Hola, me llamo Iñigo Montoya, tú mataste a mi padre. ... Prepárate a morir'\n",
    "s.upper()"
   ]
  },
  {
   "cell_type": "markdown",
   "metadata": {},
   "source": [
    "Fíjate que `upper` no modifica la cadena (las cadenas son inmutables), sino que devuelve otra cadena diferente."
   ]
  },
  {
   "cell_type": "code",
   "execution_count": 11,
   "metadata": {
    "ExecuteTime": {
     "end_time": "2019-01-04T11:16:23.544953Z",
     "start_time": "2019-01-04T11:16:23.539992Z"
    }
   },
   "outputs": [
    {
     "data": {
      "text/plain": [
       "'Hola, me llamo Iñigo Montoya, tú mataste a mi padre. ... Prepárate a morir'"
      ]
     },
     "execution_count": 11,
     "metadata": {},
     "output_type": "execute_result"
    }
   ],
   "source": [
    "s    # la cadena s no cambia de valor"
   ]
  },
  {
   "cell_type": "markdown",
   "metadata": {},
   "source": [
    "Para guardar el resultado de `upper` usamos la asignación:"
   ]
  },
  {
   "cell_type": "code",
   "execution_count": 12,
   "metadata": {
    "ExecuteTime": {
     "end_time": "2019-01-04T11:16:24.597465Z",
     "start_time": "2019-01-04T11:16:24.593001Z"
    }
   },
   "outputs": [],
   "source": [
    "t = s.upper()"
   ]
  },
  {
   "cell_type": "markdown",
   "metadata": {},
   "source": [
    "Podemos  preguntar por el contenido de `t`:"
   ]
  },
  {
   "cell_type": "code",
   "execution_count": 13,
   "metadata": {
    "ExecuteTime": {
     "end_time": "2019-01-04T11:16:32.364884Z",
     "start_time": "2019-01-04T11:16:32.360423Z"
    }
   },
   "outputs": [
    {
     "data": {
      "text/plain": [
       "'HOLA, ME LLAMO IÑIGO MONTOYA, TÚ MATASTE A MI PADRE. ... PREPÁRATE A MORIR'"
      ]
     },
     "execution_count": 13,
     "metadata": {},
     "output_type": "execute_result"
    }
   ],
   "source": [
    "t"
   ]
  },
  {
   "cell_type": "markdown",
   "metadata": {},
   "source": [
    "* Genera una cadena `t`  igual que  `s`  pero en minúsculas (función `lower`). Calcula la longitud de `t`.\n",
    "* Ejecuta la función  `split(',')`. Fíjate en lo que devuelve esa función. \n",
    "* Ejecuta la función  `title()`.\n",
    "* Ejecuta la función  `replace(' ', '_')`. Fíjate en lo que devuelve esa función.\n",
    "* Ejecuta `dir(str)` para listar las funciones disponibles para trabajar con cadenas."
   ]
  },
  {
   "cell_type": "code",
   "execution_count": 14,
   "metadata": {},
   "outputs": [],
   "source": [
    "# Sol: \n",
    "\n"
   ]
  },
  {
   "cell_type": "markdown",
   "metadata": {},
   "source": [
    "## Ejercicio 5\n",
    "\n",
    "Es frecuente tener que convertir de unas unidades de medida a otras. Escribe expresiones para:\n",
    "* pasar de kilogramos a gramos, dada una cantidad m que representa un peso en kilogramos,  dar su equivalente en gramos;\n",
    "* pasar de kilogramos a libras (1kg = 2,20462 libras);\n",
    "* pasar de grados Celsius a grados Fahrenheit (para  calcular cuántos grados Fahrenheit son X grados Celsius, tenemos que multiplicar los X grados Celsius por 1,8 y sumarle 32)\n",
    "\n"
   ]
  },
  {
   "cell_type": "code",
   "execution_count": 38,
   "metadata": {},
   "outputs": [],
   "source": [
    "# Sol: \n",
    "\n"
   ]
  },
  {
   "cell_type": "markdown",
   "metadata": {},
   "source": [
    "--------------------"
   ]
  }
 ],
 "metadata": {
  "anaconda-cloud": {},
  "hide_input": false,
  "kernelspec": {
   "display_name": "Python 3 (ipykernel)",
   "language": "python",
   "name": "python3"
  },
  "language_info": {
   "codemirror_mode": {
    "name": "ipython",
    "version": 3
   },
   "file_extension": ".py",
   "mimetype": "text/x-python",
   "name": "python",
   "nbconvert_exporter": "python",
   "pygments_lexer": "ipython3",
   "version": "3.11.1"
  },
  "nbTranslate": {
   "displayLangs": [
    "en",
    "es"
   ],
   "hotkey": "alt-t",
   "langInMainMenu": true,
   "sourceLang": "es",
   "targetLang": "en",
   "useGoogleTranslate": true
  },
  "toc": {
   "base_numbering": 1,
   "nav_menu": {
    "height": "86px",
    "width": "252px"
   },
   "number_sections": true,
   "sideBar": true,
   "skip_h1_title": false,
   "title_cell": "Table of Contents",
   "title_sidebar": "Contents",
   "toc_cell": false,
   "toc_position": {},
   "toc_section_display": "block",
   "toc_window_display": true
  }
 },
 "nbformat": 4,
 "nbformat_minor": 1
}
