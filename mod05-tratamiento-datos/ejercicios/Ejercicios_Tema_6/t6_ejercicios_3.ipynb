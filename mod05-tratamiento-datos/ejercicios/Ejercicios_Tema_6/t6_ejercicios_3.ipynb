{
 "cells": [
  {
   "cell_type": "markdown",
   "metadata": {},
   "source": [
    "# Ejercicios "
   ]
  },
  {
   "cell_type": "markdown",
   "metadata": {},
   "source": [
    "## Ejercicio 1"
   ]
  },
  {
   "cell_type": "markdown",
   "metadata": {},
   "source": [
    "\n",
    "Disponemos de varios ficheros que contienen medicciones de temperaturas en distintos meses. Se encuentran en la carpeta `.\\datos\\temperaturas_mes`.\n",
    "\n",
    "* Las medicciones de temperatura del mes de enero se encuentran en el fichero [Enero.txt](./datos/temperaturas_meses/tempetaruras.txt)\n",
    "\n",
    "\n",
    "__a)__ Crear un array de `numpy` con los datos de las temperaturas del mes de Enero. El nombre de este array se llamará `enero`.\n",
    "\n",
    "   * Carga el fichero mediante la función `loadtxt`.  Usa el parámetro `dtype` para indicar que los valores sean de tipo `int`. Si tu sistema operativo es iOS, es probable que te de error si pones tipo `int`. Prueba a poner `float`.\n",
    "  "
   ]
  },
  {
   "cell_type": "code",
   "execution_count": 3,
   "metadata": {},
   "outputs": [],
   "source": [
    "# Sol:\n",
    "import numpy as np\n"
   ]
  },
  {
   "cell_type": "code",
   "execution_count": 11,
   "metadata": {},
   "outputs": [
    {
     "name": "stdout",
     "output_type": "stream",
     "text": [
      " El volumen de la unidad C es Windows\n",
      " El n£mero de serie del volumen es: 343D-B377\n",
      "\n",
      " Directorio de C:\\Users\\crisa\\Documents\\mpvd\\uah2223-crisalpas\\practicas-python-ygarcia\\Ejercicios_Tema_6\\datos\\temperaturas_mes\n",
      "\n",
      "16/03/2023  19:36    <DIR>          .\n",
      "16/03/2023  19:36    <DIR>          ..\n",
      "16/03/2023  19:36             1.407 Abril.txt\n",
      "16/03/2023  19:36             1.626 Enero.txt\n",
      "16/03/2023  19:36             3.025 Febrero.txt\n",
      "16/03/2023  19:36             4.094 Junio.txt\n",
      "16/03/2023  19:36             4.202 Marzo.txt\n",
      "16/03/2023  19:36             3.547 Mayo.txt\n",
      "16/03/2023  19:36                59 metadatos.csv\n",
      "16/03/2023  19:36                 0 readme.csv\n",
      "               8 archivos         17.960 bytes\n",
      "               2 dirs  661.308.932.096 bytes libres\n"
     ]
    }
   ],
   "source": [
    "%ls temperaturas_mes"
   ]
  },
  {
   "cell_type": "markdown",
   "metadata": {},
   "source": [
    "__b)__ Determinar el tamaño de los datos. ¿Cuantas filas y cuántas columnas tiene el array `enero`?\n",
    "\n",
    "Observa que la primera columna siempre tiene el valor 1 (1 = Enero)."
   ]
  },
  {
   "cell_type": "code",
   "execution_count": 15,
   "metadata": {},
   "outputs": [
    {
     "data": {
      "text/plain": [
       "300"
      ]
     },
     "execution_count": 15,
     "metadata": {},
     "output_type": "execute_result"
    }
   ],
   "source": [
    "# sol:\n",
    "enero = np.loadtxt(\"./temperaturas_mes/Enero.txt\")\n",
    "len(enero)"
   ]
  },
  {
   "cell_type": "markdown",
   "metadata": {},
   "source": [
    "__c)__ Calcula la temperatura máxima y mínima registrada."
   ]
  },
  {
   "cell_type": "code",
   "execution_count": 19,
   "metadata": {
    "ExecuteTime": {
     "end_time": "2019-01-04T13:59:59.450302Z",
     "start_time": "2019-01-04T13:59:59.447330Z"
    }
   },
   "outputs": [
    {
     "data": {
      "text/plain": [
       "(9.0, -7.0)"
      ]
     },
     "execution_count": 19,
     "metadata": {},
     "output_type": "execute_result"
    }
   ],
   "source": [
    "# SOl: \n",
    "# temperatura máxima:  \n",
    "# temperatura mínima:  \n",
    "\n",
    "np.max(enero[:,1]), np.min(enero[:,1])"
   ]
  },
  {
   "cell_type": "markdown",
   "metadata": {},
   "source": [
    "__d)__ Calcula la media de temperaturas en dicho mes."
   ]
  },
  {
   "cell_type": "code",
   "execution_count": 20,
   "metadata": {},
   "outputs": [
    {
     "data": {
      "text/plain": [
       "0.94"
      ]
     },
     "execution_count": 20,
     "metadata": {},
     "output_type": "execute_result"
    }
   ],
   "source": [
    "# Sol:\n",
    "np.mean(enero[:,1])"
   ]
  },
  {
   "cell_type": "markdown",
   "metadata": {},
   "source": [
    "__e)__ Ejecuta la siguiente celda y comenta el resultado"
   ]
  },
  {
   "cell_type": "code",
   "execution_count": 28,
   "metadata": {},
   "outputs": [
    {
     "name": "stdout",
     "output_type": "stream",
     "text": [
      "C:\\Users\\crisa\\Documents\\mpvd\\uah2223-crisalpas\\practicas-python-ygarcia\\Ejercicios_Tema_6\\datos\n",
      "File: .ipynb_checkpoints,\n",
      "Ruta: C:\\Users\\crisa\\Documents\\mpvd\\uah2223-crisalpas\\practicas-python-ygarcia\\Ejercicios_Tema_6\\datos\\.ipynb_checkpoints\n",
      " ---\n",
      "File: col_juan.txt,\n",
      "Ruta: C:\\Users\\crisa\\Documents\\mpvd\\uah2223-crisalpas\\practicas-python-ygarcia\\Ejercicios_Tema_6\\datos\\col_juan.txt\n",
      " ---\n",
      "File: col_pedro.txt,\n",
      "Ruta: C:\\Users\\crisa\\Documents\\mpvd\\uah2223-crisalpas\\practicas-python-ygarcia\\Ejercicios_Tema_6\\datos\\col_pedro.txt\n",
      " ---\n",
      "File: humedad.txt,\n",
      "Ruta: C:\\Users\\crisa\\Documents\\mpvd\\uah2223-crisalpas\\practicas-python-ygarcia\\Ejercicios_Tema_6\\datos\\humedad.txt\n",
      " ---\n",
      "File: temperaturas.txt,\n",
      "Ruta: C:\\Users\\crisa\\Documents\\mpvd\\uah2223-crisalpas\\practicas-python-ygarcia\\Ejercicios_Tema_6\\datos\\temperaturas.txt\n",
      " ---\n",
      "File: temperaturas_mes,\n",
      "Ruta: C:\\Users\\crisa\\Documents\\mpvd\\uah2223-crisalpas\\practicas-python-ygarcia\\Ejercicios_Tema_6\\datos\\temperaturas_mes\n",
      " ---\n"
     ]
    }
   ],
   "source": [
    "import pathlib\n",
    "import os\n",
    "wd = os.getcwd() \n",
    "print(wd)\n",
    "\n",
    "carpeta = pathlib.Path(wd)\n",
    "for fichero in carpeta.iterdir():\n",
    "    print(f'File: {fichero.name},\\nRuta: {fichero}\\n', '---')"
   ]
  },
  {
   "cell_type": "markdown",
   "metadata": {},
   "source": [
    "__f)__ Calcula la media de temperaturas de todos los meses."
   ]
  },
  {
   "cell_type": "code",
   "execution_count": 47,
   "metadata": {},
   "outputs": [
    {
     "name": "stdout",
     "output_type": "stream",
     "text": [
      "En el mes de Abril se han registrado 250 temperaturas, y la media es de 13.3.\n",
      "En el mes de Enero se han registrado 300 temperaturas, y la media es de 0.9.\n",
      "En el mes de Febrero se han registrado 505 temperaturas, y la media es de -5.0.\n",
      "En el mes de Junio se han registrado 698 temperaturas, y la media es de 21.7.\n",
      "En el mes de Marzo se han registrado 752 temperaturas, y la media es de 6.5.\n",
      "En el mes de Mayo se han registrado 621 temperaturas, y la media es de 14.4.\n"
     ]
    }
   ],
   "source": [
    "# Sol:\n",
    "carpeta = pathlib.Path(wd + '/temperaturas_mes')\n",
    "for fichero in carpeta.iterdir():\n",
    "    if fichero.name[-3:] == 'txt':\n",
    "        t = np.loadtxt(fichero)\n",
    "        print(f'En el mes de {fichero.name[:-4]} se han registrado {len(t)} temperaturas, y la media es de {np.mean(t[:,1]):.1f}.')"
   ]
  },
  {
   "cell_type": "markdown",
   "metadata": {},
   "source": [
    "---------------------"
   ]
  }
 ],
 "metadata": {
  "anaconda-cloud": {},
  "hide_input": false,
  "kernelspec": {
   "display_name": "Python 3 (ipykernel)",
   "language": "python",
   "name": "python3"
  },
  "language_info": {
   "codemirror_mode": {
    "name": "ipython",
    "version": 3
   },
   "file_extension": ".py",
   "mimetype": "text/x-python",
   "name": "python",
   "nbconvert_exporter": "python",
   "pygments_lexer": "ipython3",
   "version": "3.11.1"
  },
  "nbTranslate": {
   "displayLangs": [
    "en",
    "es"
   ],
   "hotkey": "alt-t",
   "langInMainMenu": true,
   "sourceLang": "es",
   "targetLang": "en",
   "useGoogleTranslate": true
  },
  "toc": {
   "base_numbering": 1,
   "nav_menu": {
    "height": "68px",
    "width": "252px"
   },
   "number_sections": true,
   "sideBar": true,
   "skip_h1_title": false,
   "title_cell": "Table of Contents",
   "title_sidebar": "Contents",
   "toc_cell": false,
   "toc_position": {},
   "toc_section_display": "block",
   "toc_window_display": false
  }
 },
 "nbformat": 4,
 "nbformat_minor": 1
}
