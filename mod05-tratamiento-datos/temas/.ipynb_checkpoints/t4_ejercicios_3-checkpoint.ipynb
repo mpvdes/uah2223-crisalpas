{
 "cells": [
  {
   "cell_type": "markdown",
   "metadata": {},
   "source": [
    "# Ejercicios \n",
    "\n"
   ]
  },
  {
   "cell_type": "markdown",
   "metadata": {},
   "source": [
    "## Ejercicio 1\n",
    "\n",
    "__(a)__ Utiliza la función `range` para generar la __lista__ de numeros pares con inicio 100 y fin 150. Ambos inclusive. \n",
    "\n",
    "__(b)__ Utiliza la función `range` para generar la __tupla__ de numeros múltiplos de 3 con inicio 99 y fin 78. Ambos inclusive. El resultado será: `(99, 96, 93, 90, 87, 84, 81, 78)`.\n"
   ]
  },
  {
   "cell_type": "code",
   "execution_count": 6,
   "metadata": {},
   "outputs": [
    {
     "data": {
      "text/plain": [
       "[100,\n",
       " 102,\n",
       " 104,\n",
       " 106,\n",
       " 108,\n",
       " 110,\n",
       " 112,\n",
       " 114,\n",
       " 116,\n",
       " 118,\n",
       " 120,\n",
       " 122,\n",
       " 124,\n",
       " 126,\n",
       " 128,\n",
       " 130,\n",
       " 132,\n",
       " 134,\n",
       " 136,\n",
       " 138,\n",
       " 140,\n",
       " 142,\n",
       " 144,\n",
       " 146,\n",
       " 148,\n",
       " 150]"
      ]
     },
     "execution_count": 6,
     "metadata": {},
     "output_type": "execute_result"
    }
   ],
   "source": [
    "# SOL a)\n",
    "r = range(100, 152, 2)\n",
    "lista_pares = list(r)\n",
    "lista_pares"
   ]
  },
  {
   "cell_type": "code",
   "execution_count": 45,
   "metadata": {},
   "outputs": [
    {
     "data": {
      "text/plain": [
       "(99, 96, 93, 90, 87, 84, 81, 78)"
      ]
     },
     "execution_count": 45,
     "metadata": {},
     "output_type": "execute_result"
    }
   ],
   "source": [
    "# SOL b)\n",
    "r = range(78, 102, 3)\n",
    "lista_mult3 = list(r)\n",
    "lista_mult3.reverse()\n",
    "tupla_mult3 = tuple(lista_mult3)\n",
    "tupla_mult3"
   ]
  },
  {
   "cell_type": "markdown",
   "metadata": {},
   "source": [
    "## Ejercicio 2\n",
    "\n",
    "Escribe una función llamada `weekday` que devuelva el día de la semana (Lunes, Martes, Miércoles, etc.). La función tiene un único parámetro de entrada de tipo entero y comprendido entre el 1 y el 7 que representa el día de la semana. Dicha función devuelve un único valor de tipo str.\n",
    "\n",
    "__Nota:__\n",
    "\n",
    "* weekday(1) devuelve como resultado el valor 'Lunes'\n",
    "* weekday(6) devuelve como resultado el valor 'Sábado'"
   ]
  },
  {
   "cell_type": "code",
   "execution_count": 69,
   "metadata": {},
   "outputs": [],
   "source": [
    "# SOL\n",
    "def weekday(x):\n",
    "    semana = ['None','Lunes', 'Martes', 'Miércoles', 'Jueves', 'Viernes', 'Sábado', 'Domingo']\n",
    "    return(semana[x])"
   ]
  },
  {
   "cell_type": "code",
   "execution_count": 70,
   "metadata": {},
   "outputs": [
    {
     "data": {
      "text/plain": [
       "'Sábado'"
      ]
     },
     "execution_count": 70,
     "metadata": {},
     "output_type": "execute_result"
    }
   ],
   "source": [
    "weekday(6)"
   ]
  },
  {
   "cell_type": "markdown",
   "metadata": {},
   "source": [
    "## Ejercicio 3"
   ]
  },
  {
   "cell_type": "markdown",
   "metadata": {},
   "source": [
    "Diseña una función llamada __sumar_pares_positivos__ que reciba una lista de números `a` y devuelva la suma de  conteaquellos números que sean pares y positivos.\n",
    "\n",
    "__Ejemplo de ejecución:__\n",
    "\n",
    "```\n",
    "In: \n",
    "    L = [5, -2, 2, 4, -8, 6, 7, 0]\n",
    "    r = sumar_pares_positivos(L) \n",
    "    r\n",
    "    \n",
    "Out: \n",
    "    12\n",
    "```"
   ]
  },
  {
   "cell_type": "code",
   "execution_count": 141,
   "metadata": {},
   "outputs": [],
   "source": [
    "# Sol:\n",
    "def sumar_elementos(a):\n",
    "    suma = 0\n",
    "    for each in a:\n",
    "        suma = suma + each\n",
    "    return suma"
   ]
  },
  {
   "cell_type": "code",
   "execution_count": 142,
   "metadata": {},
   "outputs": [
    {
     "data": {
      "text/plain": [
       "14"
      ]
     },
     "execution_count": 142,
     "metadata": {},
     "output_type": "execute_result"
    }
   ],
   "source": [
    "a = [5, -2, 2, 4, -8, 6, 7, 0]\n",
    "r = sumar_elementos(a)\n",
    "r"
   ]
  },
  {
   "cell_type": "code",
   "execution_count": 162,
   "metadata": {},
   "outputs": [
    {
     "data": {
      "text/plain": [
       "[0, 0, 2, 4, 0, 6, 0, 0]"
      ]
     },
     "execution_count": 162,
     "metadata": {},
     "output_type": "execute_result"
    }
   ],
   "source": [
    "def pares_positivos(e):\n",
    "    suma = 0\n",
    "    if (e % 2 == 0 and e > 0):\n",
    "        suma = suma + e\n",
    "        return suma\n",
    "    else:\n",
    "        return 0\n",
    "\n",
    "L = [5, -2, 2, 4, -8, 6, 7, 0]\n",
    "resultado = map(pares_positivos, L)\n",
    "list(resultado)"
   ]
  },
  {
   "cell_type": "code",
   "execution_count": 185,
   "metadata": {},
   "outputs": [],
   "source": [
    "def sumar_pares_positivos(a):\n",
    "    suma = 0\n",
    "    for each in a:\n",
    "        if (each % 2 == 0 and each > 0):\n",
    "            suma = suma + each\n",
    "    return suma"
   ]
  },
  {
   "cell_type": "code",
   "execution_count": 186,
   "metadata": {},
   "outputs": [
    {
     "data": {
      "text/plain": [
       "12"
      ]
     },
     "execution_count": 186,
     "metadata": {},
     "output_type": "execute_result"
    }
   ],
   "source": [
    "L = [5, -2, 2, 4, -8, 6, 7, 0]\n",
    "resultado = sumar_pares_positivos(L)\n",
    "resultado"
   ]
  },
  {
   "cell_type": "markdown",
   "metadata": {},
   "source": [
    "## Ejercicio 4\n",
    "\n",
    "El siguiente diccionario representa algunos de los datos de empleados (NIF's y otros datos personales) de una empresa:"
   ]
  },
  {
   "cell_type": "code",
   "execution_count": 205,
   "metadata": {},
   "outputs": [],
   "source": [
    "personal = {\n",
    " '09514247N': {\"perfil\": [\"desarrollador de software\",\"cocina\" ],\n",
    "               'edad': 28,\n",
    "               'salario': 35000,\n",
    "               \"incorporación\": 2005,\n",
    "               \"empresa_ant\": \"IBM\",\n",
    "               \"pais\": \"España\"},\n",
    " '12547895E': {\"perfil\": [\"desarrollador de software\", \"control de calidad\"  ],\n",
    "               'edad': 28,\n",
    "               'salario': 28000,\n",
    "               \"pais\": \"España\"},\n",
    " '01235842B': {\"perfil\": [ \"gestión logística\",\"control de calidad\", \"transporte\"],\n",
    "               'edad': 28,\n",
    "               'salario': 47000,\n",
    "               \"empresa_ant\": \"Amazon\",\n",
    "               \"pais\": \"España\"},\n",
    " '47854141S': {\"perfil\": [ \"inventario\",\"control de calidad\", \"gestión de proyectos\"  ],\n",
    "               'edad': 28,\n",
    "               'salario': 50000,\n",
    "               \"incorporación\": 2000,\n",
    "               \"pais\": \"España\"},\n",
    " '12345678G': {'edad': 28,\n",
    "               'salario': 62000,\n",
    "               \"pais\": \"España\"},\n",
    " '56789023T': {\"perfil\": [\"desarrollador de videojuegos\" ],\n",
    "               'edad': 28,\n",
    "               'salario': 29000,\n",
    "               \"pais\": \"España\"}\n",
    "}"
   ]
  },
  {
   "cell_type": "markdown",
   "metadata": {},
   "source": [
    "(a) Escribe las instrucciones necesarias para recuperar la lista de todos los NIFs. Observa que el dato del NIF se encuentra en la claves del diccionario personal."
   ]
  },
  {
   "cell_type": "code",
   "execution_count": 206,
   "metadata": {},
   "outputs": [
    {
     "data": {
      "text/plain": [
       "['09514247N', '12547895E', '01235842B', '47854141S', '12345678G', '56789023T']"
      ]
     },
     "execution_count": 206,
     "metadata": {},
     "output_type": "execute_result"
    }
   ],
   "source": [
    "# SOL\n",
    "lista_nif = list(personal.keys())\n",
    "lista_nif"
   ]
  },
  {
   "cell_type": "markdown",
   "metadata": {},
   "source": [
    "(b) Escribe la instrucción que devuelve la edad de la persona con NIF 01235842B."
   ]
  },
  {
   "cell_type": "code",
   "execution_count": 207,
   "metadata": {},
   "outputs": [
    {
     "data": {
      "text/plain": [
       "28"
      ]
     },
     "execution_count": 207,
     "metadata": {},
     "output_type": "execute_result"
    }
   ],
   "source": [
    "# SOL\n",
    "personal['01235842B']['edad']"
   ]
  },
  {
   "cell_type": "markdown",
   "metadata": {},
   "source": [
    "(c) Sube el salario en un 10% al empleado con NIF 56789023T."
   ]
  },
  {
   "cell_type": "code",
   "execution_count": 209,
   "metadata": {},
   "outputs": [
    {
     "data": {
      "text/plain": [
       "31900.000000000004"
      ]
     },
     "execution_count": 209,
     "metadata": {},
     "output_type": "execute_result"
    }
   ],
   "source": [
    "# SOL\n",
    "personal['56789023T']['salario'] = 29000 * 1.1\n",
    "personal['56789023T']['salario']"
   ]
  },
  {
   "cell_type": "markdown",
   "metadata": {},
   "source": [
    "## Ejercicio 5"
   ]
  },
  {
   "cell_type": "markdown",
   "metadata": {},
   "source": [
    "Dada una lista de direcciones de correo electrónico:\n",
    "\n",
    "```\n",
    "direcciones = ['ana@gmail.com', 'luis@google.es', 'tu@ucm.es' ]\n",
    "```\n",
    "se desea extraer el nombre del dominio. Por ejemplo, a partir de la lista anterior, queremos obtener la lista:\n",
    "\n",
    "```\n",
    "['gmail.com', 'google.es', 'ucm.es' ]\n",
    "```\n",
    "\n",
    "Para resolver este problema, tenemos que usar la función split de los strings, que permite dividir un string en partes."
   ]
  },
  {
   "cell_type": "code",
   "execution_count": 269,
   "metadata": {},
   "outputs": [
    {
     "data": {
      "text/plain": [
       "['gmail.com', 'google.es', 'ucm.es']"
      ]
     },
     "execution_count": 269,
     "metadata": {},
     "output_type": "execute_result"
    }
   ],
   "source": [
    "# SOL\n",
    "direcciones = ['ana@gmail.com', 'luis@google.es', 'tu@ucm.es']\n",
    "dominio = []\n",
    "for each in direcciones:\n",
    "    dominio.append(each.split('@')[1])\n",
    "dominio"
   ]
  },
  {
   "cell_type": "markdown",
   "metadata": {},
   "source": [
    "## Ejercicio 6\n",
    "\n",
    "Dada una lista de empleados con su salario:\n",
    "\n",
    "empleados = [('Ana', 200), ('Juan', 400), ('Pedro', 750), ('Lucía', 600), ('Sergio', 350)]\n",
    "\n",
    "se desea extraer el nombre de los empleados cuyo salario es inferior a 500. Por ejemplo, a partir de la lista anterior, queremos obtener la lista:\n",
    "\n",
    "['Ana', 'Juan', 'Sergio']\n",
    "\n",
    "\n"
   ]
  },
  {
   "cell_type": "code",
   "execution_count": 275,
   "metadata": {},
   "outputs": [
    {
     "data": {
      "text/plain": [
       "['Ana', 'Juan', 'Sergio']"
      ]
     },
     "execution_count": 275,
     "metadata": {},
     "output_type": "execute_result"
    }
   ],
   "source": [
    "# Sol:\n",
    "\n",
    "empleados = [('Ana', 200), ('Juan', 400), ('Pedro', 750), ('Lucía', 600), ('Sergio', 350)]\n",
    "salario_menos_500 = []\n",
    "\n",
    "for each in empleados:\n",
    "    if each[1] < 500:\n",
    "        salario_menos_500.append(each[0])\n",
    "\n",
    "salario_menos_500"
   ]
  }
 ],
 "metadata": {
  "anaconda-cloud": {},
  "hide_input": false,
  "kernelspec": {
   "display_name": "Python 3 (ipykernel)",
   "language": "python",
   "name": "python3"
  },
  "language_info": {
   "codemirror_mode": {
    "name": "ipython",
    "version": 3
   },
   "file_extension": ".py",
   "mimetype": "text/x-python",
   "name": "python",
   "nbconvert_exporter": "python",
   "pygments_lexer": "ipython3",
   "version": "3.11.1"
  },
  "nbTranslate": {
   "displayLangs": [
    "en",
    "es"
   ],
   "hotkey": "alt-t",
   "langInMainMenu": true,
   "sourceLang": "es",
   "targetLang": "en",
   "useGoogleTranslate": true
  },
  "toc": {
   "base_numbering": 1,
   "nav_menu": {
    "height": "86px",
    "width": "252px"
   },
   "number_sections": true,
   "sideBar": true,
   "skip_h1_title": false,
   "title_cell": "Table of Contents",
   "title_sidebar": "Contents",
   "toc_cell": false,
   "toc_position": {},
   "toc_section_display": "block",
   "toc_window_display": false
  }
 },
 "nbformat": 4,
 "nbformat_minor": 2
}
