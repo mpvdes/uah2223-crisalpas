{
 "cells": [
  {
   "cell_type": "markdown",
   "metadata": {
    "slideshow": {
     "slide_type": "slide"
    }
   },
   "source": [
    "# Sobre los datos y su extracción\n",
    "\n",
    "\n",
    "El desarrollo de la tecnología ha propiciado el hecho de que se generen grandes cantidades de datos, y que en muchos casos, estos puedan ser utilizados como materia prima en muchos contextos. El objetivo es obtener `Valor` de ellos. \n",
    "\n"
   ]
  },
  {
   "cell_type": "markdown",
   "metadata": {
    "slideshow": {
     "slide_type": "slide"
    }
   },
   "source": [
    "\n",
    "## Tipos de datos\n",
    "\n",
    "Los datos admiten muchas clasificaciones, dependiendo de cuál es la fuente que genera los datos, según su formato, etc.\n",
    "\n",
    "\n",
    "__Datos públicos__. Normalmente publicados en portales de datos abiertos. \n",
    "\n",
    "* Pueden ser datos de los gobiernos, datos de las administraciones, datos de sensores (tráfico, medio ambiente, clima, energía, cámaras), de patrimonio cultural (museos, archivos, bibliotecas), etc. \n",
    "* Normalmente estos datos están disponibles de forma libre para todo el mundo, sin restricciones de derechos de autor, o de otros mecanismos de control de acceso.\n",
    "\n",
    "__Datos privados__. Aquellos que pertenecen al sector privado, como por ejemplo centros científicos, redes sociales como Facebook o Twitter. \n",
    "* En este caso, la disponibilidad de los datos puede estar restringida; por ejemplo, a la cantidad de datos, al tipo de datos. Pueden tener un coste. \n",
    "\n"
   ]
  },
  {
   "cell_type": "markdown",
   "metadata": {
    "slideshow": {
     "slide_type": "slide"
    }
   },
   "source": [
    "# Accesibilidad de los datos\n",
    "\n",
    "Los datos publicados en portales que cumplen las directivas Open Data, suelen ser datos __fáciles de buscar__ y a los que __se puede acceder y descargar__ sin muchos problemas. \n",
    "\n",
    "Suelen ser datos en __formatos digitales__ lo más __estándares y reutilizables__ posible (aunque no siempre ha sido así). \n",
    "\n",
    "Unos ejemplos:\n",
    "\n",
    "* [Gobierno EEUU](https://www.data.gov/)\n",
    "* [Ayuntamiento de Madrid](https://datos.madrid.es/portal/site/egob)\n",
    "* [Civio datos](https://datos.civio.es/colecciones/)\n",
    "* [Banco Mundial](https://datacatalog.worldbank.org/home)\n",
    "* [Unión Europea](https://data.europa.eu/es)\n",
    "\n"
   ]
  },
  {
   "cell_type": "markdown",
   "metadata": {
    "slideshow": {
     "slide_type": "slide"
    }
   },
   "source": [
    "# Accesibilidad de los datos\n",
    "\n",
    "A veces puede ser interesante disponer de datos que no se encuentran disponibles de forma pública para ser descargados de forma automática.\n",
    "\n",
    "__Twitter__ \n",
    "\n",
    "   La información es pública, pero no está disponible para su utilización (al menos de forma masiva y gratuita).\n",
    "\n",
    "__Portal de ventas de Amazon__\n",
    "\n",
    "   Es posible consultar información de sus productos navegando por su sitio web, pero no es posible la descarga masiva de las valoraciones de todos sus productos.\n",
    "   \n",
    "   \n",
    "   \n",
    "En ambos casos, nos encontramos con que pueden ser datos interesantes que pueden aportar valor y conocimiento cuando se estudian de forma masiva, en grandes cantidades.\n",
    "\n",
    "<h3 style=\"text-align:center\" color=\"blue\">¿Podemos acceder a ellos?</p>\n"
   ]
  },
  {
   "cell_type": "markdown",
   "metadata": {
    "slideshow": {
     "slide_type": "slide"
    }
   },
   "source": [
    "## Acceso a los datos\n",
    "\n",
    "### __Web scraping__\n",
    "\n",
    "Se trata de procesos automáticos (__robots__) que hacen peticiones a un sitio web para extraer contenido e información. Por ejemplo, para consultar los precios de productos. \n",
    "\n",
    "El proceso implica enviar solicitudes HTTP al servidor web para __obtener el contenido de la página web__ y luego __extraer la información específica__ deseada de este contenido.\n",
    "\n"
   ]
  },
  {
   "cell_type": "markdown",
   "metadata": {
    "slideshow": {
     "slide_type": "slide"
    }
   },
   "source": [
    "## Acceso a los datos\n",
    "\n",
    "### __Web scraping__\n",
    "\n",
    "* Esto no siempre es legal, y no siempre es posible. El scraping puede violar las leyes de propiedad intelectual, ya que puede implicar la recopilación de datos protegidos por derechos de autor o propiedad del sitio web. "
   ]
  },
  {
   "cell_type": "markdown",
   "metadata": {
    "slideshow": {
     "slide_type": "fragment"
    }
   },
   "source": [
    "### Antes de hacer scraping ...\n",
    "\n",
    "Es importante tener en cuenta que algunos sitios web tienen políticas específicas sobre el scraping y pueden tomar medidas legales si se detecta actividad de scraping en su sitio. Por lo tanto, es fundamental tener cuidado al realizar scraping y cumplir con todas las políticas y regulaciones aplicables.\n",
    "\n",
    "El fichero de texto `robots.txt` se encuentra en el directorio raíz de un sitio web e indica a los robots qué páginas o secciones del sitio deben ser rastreadas y cuáles no.\n",
    "\n",
    "Ejemplo: https://www.amazon.es/robots.txt"
   ]
  },
  {
   "cell_type": "markdown",
   "metadata": {
    "slideshow": {
     "slide_type": "slide"
    }
   },
   "source": [
    "## Acceso a los datos\n",
    "\n",
    "### __Uso de API's__\n",
    "\n",
    "Se trata de __aplicaciones__ proporcionadas por algunos sitios web para permitir el acceso a sus datos de manera automática y en línea con sus políticas de uso.\n",
    "\n",
    "* Por ejemplo, Twitter dispone de una API para compartir algunos de sus datos (tweets, seguidores, re-tweeets). En este caso, el uso de API se puede realizar bajo varias licencias que se diferencian en su coste y la cantidad de datos disponibles. Por tanto, se requiere la solicitud de permisos y credenciales.\n",
    "\n",
    "* El caso de Twitter es solo un ejemplo. También existen sitios web que permiten la descarga de datos mediante APIs que pueden ser utilizadas de forma gratuita y sin ninguna restricción en cuanto al número de descargas. \n",
    "\n",
    "* En otros casos, el único control para su uso es el de registrase (login)."
   ]
  },
  {
   "cell_type": "markdown",
   "metadata": {
    "lang": "es",
    "slideshow": {
     "slide_type": "slide"
    }
   },
   "source": [
    "# Extracción de datos a través de APIs\n"
   ]
  },
  {
   "cell_type": "markdown",
   "metadata": {
    "lang": "es",
    "slideshow": {
     "slide_type": "slide"
    }
   },
   "source": [
    "## Extracción de datos a través de APIs\n",
    "\n",
    "\n",
    "### ¿Qué es una API?\n",
    "\n",
    "API es el acrónimo de __Interfaz de Programación de Aplicaciones__. \n",
    "\n",
    "*  Una API define una serie de __reglas y protocolos__ que especifican cómo se pueden solicitar y entregar datos desde una aplicación o servicio a otra.\n",
    "\n",
    "* Será posible el acceso a los datos de un sitio web a través de su API. \n",
    "* Lo más normal es que los sitios web dispongan de APIs desarrolladas en varios lenguajes de programación, por tanto, podrán ser utilizadas usando distintos lenguajes de programación (Java, Python, C++, R, Ruby, etc. ).\n",
    "\n",
    "* Una de las ventajas de usar APIs es que se pueden __automatizar los procesos__ y repetir la tarea periódicamente si el contexto de aplicación lo requiere.\n"
   ]
  },
  {
   "cell_type": "markdown",
   "metadata": {
    "lang": "es",
    "slideshow": {
     "slide_type": "slide"
    }
   },
   "source": [
    "\n",
    "## Ejemplos de sitios web que proporcionan APIs para la descarga de datos\n",
    "\n",
    "* [Opendatasoft](https://public.opendatasoft.com/api/v2/console)\n",
    "* [INE](https://www.ine.es/dyngs/DataLab/manual.html?cid=45)\n",
    "* [Servicio de datos abiertos del Ajuntament de Barcelona](https://opendata-ajuntament.barcelona.cat/es/open-data-bcn)\n",
    "* [Idealista](https://developers.idealista.com/access-request)\n",
    "* [Ayuntamiento de Madrid](https://datos.madrid.es/portal/site/egob/menuitem.9e1e2f6404558187cf35cf3584f1a5a0/?vgnextoid=374512b9ace9f310VgnVCM100000171f5a0aRCRD&vgnextchannel=374512b9ace9f310VgnVCM100000171f5a0aRCRD&vgnextfmt=default)\n",
    "\n",
    "* [API de Reddit](https://www.reddit.com/dev/api/): La API de Reddit permite a los desarrolladores extraer datos de publicaciones, comentarios y subreddits de Reddit.\n",
    "* [API de IMDb](https://developer.imdb.com/): La API de IMDb permite a los desarrolladores extraer datos de películas, programas de televisión y celebridades de IMDb.\n",
    "* ...\n"
   ]
  },
  {
   "cell_type": "markdown",
   "metadata": {
    "lang": "es",
    "slideshow": {
     "slide_type": "slide"
    }
   },
   "source": [
    "\n",
    "## Ejemplos de sitios web que proporcionan APIs para la descarga de datos\n",
    "\n",
    "* ...\n",
    "* [API de IMDb](https://developer.imdb.com/): La API de IMDb permite a los desarrolladores extraer datos de películas, programas de televisión y celebridades de IMDb.\n",
    "* [Flickr](https://www.flickr.com/services/api/)\n",
    "* [Banco Mundial](https://datahelpdesk.worldbank.org/knowledgebase/articles/889392-api-documentation)\n",
    "* [Oxford Dictionaries API](https://developer.oxforddictionaries.com/)\n",
    "* [API de Twitter](https://developer.twitter.com/en/docs/twitter-api) La API de Twitter permite a los desarrolladores extraer datos de Twitter, como tweets, usuarios y tendencias.\n",
    "* [API de Spotify](https://developer.spotify.com/documentation/web-api): La API de Spotify permite a los desarrolladores extraer datos de canciones, artistas y álbumes de Spotify.\n"
   ]
  },
  {
   "cell_type": "markdown",
   "metadata": {
    "lang": "es",
    "slideshow": {
     "slide_type": "slide"
    }
   },
   "source": [
    "\n",
    "## Uso de API´s\n",
    "\n",
    "* Las APIs son proporcionadas y diseñadas por las empresas. __No todas las  APIs son iguales__. Cada una de ellas establece unos criterios para el acceso a los datos. \n",
    "\n",
    "* En general, las empresas que proporcionan APIs permiten iniciar sesión en su base de datos interna, así como una forma más fácil de acceder a ella y a sus datos.\n",
    "\n",
    "* Los criterios o __requisitos de acceso__ van desde muy restrictivos a muy poco restrictivos. \n",
    "    \n",
    "  * Algunas APIs tienen limitaciones en la cantidad de veces que se puede utilizar,\n",
    "  * Otras requieren registrarse para recibir una clave de API privada,\n",
    "  * y algunos requieren configurar mecanismos de autorización (OAuth) para que los usuarios usen la API de forma segura.\n",
    "\n"
   ]
  },
  {
   "cell_type": "markdown",
   "metadata": {
    "slideshow": {
     "slide_type": "slide"
    }
   },
   "source": [
    "###  Cómo proporcionan los datos las APIs\n",
    "\n",
    "* Las APIs proporcionan datos en varios formatos, pero `JSON` es el más popular. \n",
    "\n",
    "* Por suerte, Python dispone de  bibliotecas que hacen que la manipulación de datos JSON sea intuitiva. \n",
    "\n",
    "* Otros formatos de datos proporcionados por las APIs son `csv` y `excel`.\n",
    "\n",
    "\n",
    "\n"
   ]
  },
  {
   "cell_type": "markdown",
   "metadata": {
    "slideshow": {
     "slide_type": "fragment"
    }
   },
   "source": [
    "### Preguntas\n",
    "\n",
    "* ¿Se pueden usar siempre APIs como mecanismos de adquisición de datos?\n",
    "* ¿Qué ventajas ofrece el uso de APIs?"
   ]
  },
  {
   "cell_type": "markdown",
   "metadata": {
    "slideshow": {
     "slide_type": "slide"
    }
   },
   "source": [
    "### Tipos de solicitudes a una API\n",
    "\n",
    "Existen una serie de comandos para realizar cierto tipo de acciones mientras trabajamos con una API. \n",
    "\n",
    "El comando `GET` permite a los usuarios obtener datos usando la API en un formato específico. Para la extracción de datos usaremos este comando.\n",
    "\n",
    "Otros comandos son `POST`, `DELETE` y `PUT` para agregar, eliminar y actualizar datos existentes en el servicio web respectivamente.\n",
    "\n",
    "\n"
   ]
  },
  {
   "cell_type": "markdown",
   "metadata": {
    "slideshow": {
     "slide_type": "slide"
    }
   },
   "source": [
    "### Códigos de estado/respuesta de una API\n",
    "\n",
    "En general, para usar una API, el primer paso es realizar una petición mediante una __url__. \n",
    "\n",
    "La petición devuelve cierto __código de respuesta__ que determina el estado de la petición. \n",
    "\n",
    "Entre los códigos de respuesta nos podemos encontrar con los siguientes: \n",
    "\n",
    "* `200` : Bien. Significa que tenemos una conexión saludable con la API en la web.\n",
    "* `204`: Representa que podemos establecer una conexión con la API con éxito, pero no devuelve ningún dato del servicio.\n",
    "* `401`: ¡Falló la autenticación!\n",
    "* `403` : Acceso prohibido por el servicio API.\n",
    "* `404` : El servicio API solicitado no se encuentra en el servidor/web.\n",
    "* `500` : Se ha producido un error interno del servidor.\n",
    "\n"
   ]
  },
  {
   "cell_type": "markdown",
   "metadata": {
    "slideshow": {
     "slide_type": "slide"
    }
   },
   "source": [
    "### Pasos para conectarse y llamar a las API mediante Python\n",
    "\n",
    "Analicemos ahora los pasos para establecer una conexión  con una API utilizando Python.\n",
    "\n",
    "1. Importar la librería necesaria para hacer peticiones `http`: `request`. Esta librertía permite mandar headers para que el servidor piense que te conectas con un navegador normal.\n"
   ]
  },
  {
   "cell_type": "code",
   "execution_count": 4,
   "metadata": {
    "slideshow": {
     "slide_type": "-"
    }
   },
   "outputs": [],
   "source": [
    "import requests"
   ]
  },
  {
   "cell_type": "markdown",
   "metadata": {
    "slideshow": {
     "slide_type": "fragment"
    }
   },
   "source": [
    "2. Realizar una acción para conectarse a la API. Aquí, hemos usado el comando GET para conectarnos a la API como se muestra:"
   ]
  },
  {
   "cell_type": "code",
   "execution_count": null,
   "metadata": {
    "slideshow": {
     "slide_type": "fragment"
    }
   },
   "outputs": [],
   "source": [
    "respuesta_API = request.get(url_de_ejemplo)"
   ]
  },
  {
   "cell_type": "markdown",
   "metadata": {
    "slideshow": {
     "slide_type": "fragment"
    }
   },
   "source": [
    "Hemos pasado la url a la que se debe realizar la conexión en la función `get()`.\n"
   ]
  },
  {
   "cell_type": "markdown",
   "metadata": {
    "slideshow": {
     "slide_type": "fragment"
    }
   },
   "source": [
    "3. Imprime el código de respuesta. La variable `status_code` nos permite consultar al estado de nuestra conexión a la API."
   ]
  },
  {
   "cell_type": "code",
   "execution_count": null,
   "metadata": {
    "slideshow": {
     "slide_type": "-"
    }
   },
   "outputs": [],
   "source": [
    "print(respuesta_API.status_code)"
   ]
  },
  {
   "cell_type": "markdown",
   "metadata": {
    "slideshow": {
     "slide_type": "slide"
    }
   },
   "source": [
    "## Ejemplo\n",
    "\n",
    "Ejemplo con la API del ayuntamiento de Madrid: [`https://datos.madrid.es`](https://datos.madrid.es/portal/site/egob/menuitem.9e1e2f6404558187cf35cf3584f1a5a0/?vgnextoid=374512b9ace9f310VgnVCM100000171f5a0aRCRD&vgnextchannel=374512b9ace9f310VgnVCM100000171f5a0aRCRD&vgnextfmt=default)\n",
    "\n",
    "La documentación de la API me dice cómo se debe construir la `url` para la descarga de datos.\n",
    "\n",
    "Por ejemplo, buscar la url que permite la descarga de los __datos de los aparcamientos de residentes en el distrito de Retiro__ "
   ]
  },
  {
   "cell_type": "markdown",
   "metadata": {
    "slideshow": {
     "slide_type": "fragment"
    }
   },
   "source": [
    "\n",
    "'https://datos.madrid.es/egob/catalogo/202584-0-aparcamientos-residentes.json?distrito_nombre=RETIRO'\n"
   ]
  },
  {
   "cell_type": "markdown",
   "metadata": {
    "slideshow": {
     "slide_type": "slide"
    }
   },
   "source": [
    "## Ejemplo\n",
    "\n",
    "Ejemplo con la API del ayuntamiento de Madrid: [`https://datos.madrid.es`](https://datos.madrid.es/portal/site/egob/menuitem.9e1e2f6404558187cf35cf3584f1a5a0/?vgnextoid=374512b9ace9f310VgnVCM100000171f5a0aRCRD&vgnextchannel=374512b9ace9f310VgnVCM100000171f5a0aRCRD&vgnextfmt=default)\n",
    "\n",
    "La documentación de la API me dice cómo se debe construir la `url` para la descarga de datos.\n",
    "\n",
    "Por ejemplo, buscar la url que permite la descarga de los __datos de los aparcamientos de residentes en el distrito de Retiro__ "
   ]
  },
  {
   "cell_type": "code",
   "execution_count": 6,
   "metadata": {
    "slideshow": {
     "slide_type": "-"
    }
   },
   "outputs": [
    {
     "data": {
      "text/plain": [
       "200"
      ]
     },
     "execution_count": 6,
     "metadata": {},
     "output_type": "execute_result"
    }
   ],
   "source": [
    "import requests\n",
    "\n",
    "url = 'https://datos.madrid.es/egob/catalogo/202584-0-aparcamientos-residentes.json?distrito_nombre=RETIRO'\n",
    "\n",
    "response_API = requests.get(url)\n",
    "response_API.status_code"
   ]
  },
  {
   "cell_type": "markdown",
   "metadata": {
    "slideshow": {
     "slide_type": "slide"
    }
   },
   "source": [
    "## Ejemplo\n",
    "\n",
    "Por ejemplo, buscar la url que permite la descarga de los __datos de los aparcamientos de residentes en el distrito de Retiro__ \n",
    "\n",
    "En este caso, la API solo permite descargar los datos en formato JSON. Para ver su contenido:"
   ]
  },
  {
   "cell_type": "code",
   "execution_count": 7,
   "metadata": {},
   "outputs": [
    {
     "data": {
      "text/plain": [
       "{'@context': {'c': 'http://www.w3.org/2002/12/cal#',\n",
       "  'dcterms': 'http://purl.org/dc/terms/',\n",
       "  'geo': 'http://www.w3.org/2003/01/geo/wgs84_pos#',\n",
       "  'loc': 'http://purl.org/ctic/infraestructuras/localizacion#',\n",
       "  'org': 'http://purl.org/ctic/infraestructuras/organizacion#',\n",
       "  'vcard': 'http://www.w3.org/2006/vcard/ns#',\n",
       "  'schema': 'https://schema.org/',\n",
       "  'title': 'vcard:fn',\n",
       "  'id': 'dcterms:identifier',\n",
       "  'relation': 'dcterms:relation',\n",
       "  'references': 'dcterms:references',\n",
       "  'address': 'vcard:adr',\n",
       "  'area': 'loc:barrio',\n",
       "  'district': 'loc:distrito',\n",
       "  'locality': 'vcard:locality',\n",
       "  'postal-code': 'vcard:postal-code',\n",
       "  'street-address': 'vcard:street-address',\n",
       "  'location': 'vcard:geo',\n",
       "  'latitude': 'geo:lat',\n",
       "  'longitude': 'geo:long',\n",
       "  'organization': 'vcard:org',\n",
       "  'organization-desc': 'dcterms:description',\n",
       "  'accesibility': 'org:accesibilidad',\n",
       "  'services': 'org:servicios',\n",
       "  'schedule': 'org:horario',\n",
       "  'organization-name': 'vcard:organization-name',\n",
       "  'description': 'c:summary',\n",
       "  'link': 'c:url',\n",
       "  'uid': 'c:uid',\n",
       "  'dtstart': 'c:dtstart',\n",
       "  'dtend': 'c:dtend',\n",
       "  'time': 'c:time',\n",
       "  'excluded-days': 'c:exdate',\n",
       "  'event-location': 'c:location',\n",
       "  'free': 'schema:free',\n",
       "  'price': 'c:resource',\n",
       "  'recurrence': 'c:rrule',\n",
       "  'days': 'c:byday',\n",
       "  'frequency': 'c:freq',\n",
       "  'interval': 'c:interval',\n",
       "  'audience': 'dc:audience'},\n",
       " '@graph': [{'@id': 'https://datos.madrid.es/egob/catalogo/tipo/entidadesyorganismos/183748-aparcamiento-mixto-daoiz-velarde.json',\n",
       "   'title': 'Aparcamiento mixto. Daoíz y Velarde',\n",
       "   'location': {'latitude': 40.40255344121901,\n",
       "    'longitude': -3.67763144165245}},\n",
       "  {'@id': 'https://datos.madrid.es/egob/catalogo/tipo/entidadesyorganismos/24809-aparcamiento-mixto-fernandez-shaw.json',\n",
       "   'title': 'Aparcamiento mixto. Fernández Shaw',\n",
       "   'location': {'latitude': 40.40489977502076,\n",
       "    'longitude': -3.668850975462272}},\n",
       "  {'@id': 'https://datos.madrid.es/egob/catalogo/tipo/entidadesyorganismos/13465-aparcamiento-mixto-montalban.json',\n",
       "   'title': 'Aparcamiento mixto. Montalbán',\n",
       "   'location': {'latitude': 40.4181859174944, 'longitude': -3.69095813503217}},\n",
       "  {'@id': 'https://datos.madrid.es/egob/catalogo/tipo/entidadesyorganismos/81828-aparcamiento-mixto-reyes-magos.json',\n",
       "   'title': 'Aparcamiento mixto. Reyes Magos',\n",
       "   'location': {'latitude': 40.408797321706984,\n",
       "    'longitude': -3.6763215894089827}},\n",
       "  {'@id': 'https://datos.madrid.es/egob/catalogo/tipo/entidadesyorganismos/24136-aparcamiento-residentes-alcalde-sainz-baranda.json',\n",
       "   'title': 'Aparcamiento para residentes. Alcalde Sáinz de Baranda',\n",
       "   'location': {'latitude': 40.4169949224885, 'longitude': -3.66844857705472}},\n",
       "  {'@id': 'https://datos.madrid.es/egob/catalogo/tipo/entidadesyorganismos/13554-aparcamiento-residentes-antonio-maura.json',\n",
       "   'title': 'Aparcamiento para residentes. Antonio Maura',\n",
       "   'location': {'latitude': 40.4163744217811, 'longitude': -3.6903956132852}},\n",
       "  {'@id': 'https://datos.madrid.es/egob/catalogo/tipo/entidadesyorganismos/24101-aparcamiento-residentes-conde-casal-mediterraneo.json',\n",
       "   'title': 'Aparcamiento para residentes. Conde de Casal / Mediterraneo',\n",
       "   'location': {'latitude': 40.4069414961023, 'longitude': -3.67346590971438}},\n",
       "  {'@id': 'https://datos.madrid.es/egob/catalogo/tipo/entidadesyorganismos/183760-aparcamiento-residentes-doce-octubre.json',\n",
       "   'title': 'Aparcamiento para residentes. Doce de Octubre',\n",
       "   'location': {'latitude': 40.4178437921393, 'longitude': -3.67619550529124}},\n",
       "  {'@id': 'https://datos.madrid.es/egob/catalogo/tipo/entidadesyorganismos/13551-aparcamiento-residentes-doctor-laguna.json',\n",
       "   'title': 'Aparcamiento para residentes. Doctor Laguna',\n",
       "   'location': {'latitude': 40.416038617548956,\n",
       "    'longitude': -3.673543967928384}},\n",
       "  {'@id': 'https://datos.madrid.es/egob/catalogo/tipo/entidadesyorganismos/170634-aparcamiento-residentes-espalter.json',\n",
       "   'title': 'Aparcamiento para residentes. Espalter',\n",
       "   'location': {'latitude': 40.4126788946921, 'longitude': -3.68991968676579}},\n",
       "  {'@id': 'https://datos.madrid.es/egob/catalogo/tipo/entidadesyorganismos/24108-aparcamiento-residentes-esteban-villegas.json',\n",
       "   'title': 'Aparcamiento para residentes. Esteban Villegas',\n",
       "   'location': {'latitude': 40.40840893273142,\n",
       "    'longitude': -3.683916231954491}},\n",
       "  {'@id': 'https://datos.madrid.es/egob/catalogo/tipo/entidadesyorganismos/13572-aparcamiento-residentes-estrella-polar.json',\n",
       "   'title': 'Aparcamiento para residentes. Estrella Polar',\n",
       "   'location': {'latitude': 40.4106446983225, 'longitude': -3.66696068383245}},\n",
       "  {'@id': 'https://datos.madrid.es/egob/catalogo/tipo/entidadesyorganismos/7432674-aparcamiento-residentes-juan-esplandiu.json',\n",
       "   'title': 'Aparcamiento para residentes. Juan Esplandiú',\n",
       "   'location': {'latitude': 40.4157528095955, 'longitude': -3.66602854953252}},\n",
       "  {'@id': 'https://datos.madrid.es/egob/catalogo/tipo/entidadesyorganismos/13590-aparcamiento-residentes-nino-jesus.json',\n",
       "   'title': 'Aparcamiento para residentes. Niño Jesús',\n",
       "   'location': {'latitude': 40.410884376002, 'longitude': -3.67526812561094}},\n",
       "  {'@id': 'https://datos.madrid.es/egob/catalogo/tipo/entidadesyorganismos/13545-aparcamiento-residentes-pez-volador.json',\n",
       "   'title': 'Aparcamiento para residentes. Pez Volador',\n",
       "   'location': {'latitude': 40.4143027370628, 'longitude': -3.66555883072949}},\n",
       "  {'@id': 'https://datos.madrid.es/egob/catalogo/tipo/entidadesyorganismos/13593-aparcamiento-residentes-pio-baroja-i.json',\n",
       "   'title': 'Aparcamiento para residentes. Pío Baroja I',\n",
       "   'location': {'latitude': 404134277776768, 'longitude': -3.67441505081472}}]}"
      ]
     },
     "execution_count": 7,
     "metadata": {},
     "output_type": "execute_result"
    }
   ],
   "source": [
    "data = response_API.json()    # transformar los datos devueltos en json\n",
    "data"
   ]
  },
  {
   "cell_type": "code",
   "execution_count": 8,
   "metadata": {
    "slideshow": {
     "slide_type": "slide"
    }
   },
   "outputs": [
    {
     "data": {
      "text/plain": [
       "2"
      ]
     },
     "execution_count": 8,
     "metadata": {},
     "output_type": "execute_result"
    }
   ],
   "source": [
    "# cuántas claves hay en este diccionario\n",
    "len(data)"
   ]
  },
  {
   "cell_type": "code",
   "execution_count": 9,
   "metadata": {
    "slideshow": {
     "slide_type": "slide"
    }
   },
   "outputs": [
    {
     "data": {
      "text/plain": [
       "dict_keys(['@context', '@graph'])"
      ]
     },
     "execution_count": 9,
     "metadata": {},
     "output_type": "execute_result"
    }
   ],
   "source": [
    "data.keys()"
   ]
  },
  {
   "cell_type": "code",
   "execution_count": 10,
   "metadata": {
    "slideshow": {
     "slide_type": "slide"
    }
   },
   "outputs": [
    {
     "data": {
      "text/plain": [
       "{'@id': 'https://datos.madrid.es/egob/catalogo/tipo/entidadesyorganismos/183748-aparcamiento-mixto-daoiz-velarde.json',\n",
       " 'title': 'Aparcamiento mixto. Daoíz y Velarde',\n",
       " 'location': {'latitude': 40.40255344121901, 'longitude': -3.67763144165245}}"
      ]
     },
     "execution_count": 10,
     "metadata": {},
     "output_type": "execute_result"
    }
   ],
   "source": [
    "data['@graph'][0]"
   ]
  },
  {
   "cell_type": "code",
   "execution_count": 11,
   "metadata": {
    "slideshow": {
     "slide_type": "slide"
    }
   },
   "outputs": [
    {
     "data": {
      "text/plain": [
       "'Aparcamiento mixto. Daoíz y Velarde'"
      ]
     },
     "execution_count": 11,
     "metadata": {},
     "output_type": "execute_result"
    }
   ],
   "source": [
    "ap1 = data['@graph'][0]['title']\n",
    "ap1"
   ]
  },
  {
   "cell_type": "code",
   "execution_count": 12,
   "metadata": {
    "slideshow": {
     "slide_type": "slide"
    }
   },
   "outputs": [
    {
     "data": {
      "text/plain": [
       "-3.67763144165245"
      ]
     },
     "execution_count": 12,
     "metadata": {},
     "output_type": "execute_result"
    }
   ],
   "source": [
    "ap1_lon = data['@graph'][0]['location']['longitude']\n",
    "ap1_lon"
   ]
  },
  {
   "cell_type": "markdown",
   "metadata": {
    "slideshow": {
     "slide_type": "slide"
    }
   },
   "source": [
    "### Podemos crear un dataframe con los datos"
   ]
  },
  {
   "cell_type": "code",
   "execution_count": 13,
   "metadata": {
    "slideshow": {
     "slide_type": "-"
    }
   },
   "outputs": [
    {
     "data": {
      "text/html": [
       "<div>\n",
       "<style scoped>\n",
       "    .dataframe tbody tr th:only-of-type {\n",
       "        vertical-align: middle;\n",
       "    }\n",
       "\n",
       "    .dataframe tbody tr th {\n",
       "        vertical-align: top;\n",
       "    }\n",
       "\n",
       "    .dataframe thead th {\n",
       "        text-align: right;\n",
       "    }\n",
       "</style>\n",
       "<table border=\"1\" class=\"dataframe\">\n",
       "  <thead>\n",
       "    <tr style=\"text-align: right;\">\n",
       "      <th></th>\n",
       "      <th>@id</th>\n",
       "      <th>title</th>\n",
       "      <th>location</th>\n",
       "    </tr>\n",
       "  </thead>\n",
       "  <tbody>\n",
       "    <tr>\n",
       "      <th>0</th>\n",
       "      <td>https://datos.madrid.es/egob/catalogo/tipo/ent...</td>\n",
       "      <td>Aparcamiento mixto. Daoíz y Velarde</td>\n",
       "      <td>{'latitude': 40.40255344121901, 'longitude': -...</td>\n",
       "    </tr>\n",
       "    <tr>\n",
       "      <th>1</th>\n",
       "      <td>https://datos.madrid.es/egob/catalogo/tipo/ent...</td>\n",
       "      <td>Aparcamiento mixto. Fernández Shaw</td>\n",
       "      <td>{'latitude': 40.40489977502076, 'longitude': -...</td>\n",
       "    </tr>\n",
       "    <tr>\n",
       "      <th>2</th>\n",
       "      <td>https://datos.madrid.es/egob/catalogo/tipo/ent...</td>\n",
       "      <td>Aparcamiento mixto. Montalbán</td>\n",
       "      <td>{'latitude': 40.4181859174944, 'longitude': -3...</td>\n",
       "    </tr>\n",
       "    <tr>\n",
       "      <th>3</th>\n",
       "      <td>https://datos.madrid.es/egob/catalogo/tipo/ent...</td>\n",
       "      <td>Aparcamiento mixto. Reyes Magos</td>\n",
       "      <td>{'latitude': 40.408797321706984, 'longitude': ...</td>\n",
       "    </tr>\n",
       "    <tr>\n",
       "      <th>4</th>\n",
       "      <td>https://datos.madrid.es/egob/catalogo/tipo/ent...</td>\n",
       "      <td>Aparcamiento para residentes. Alcalde Sáinz de...</td>\n",
       "      <td>{'latitude': 40.4169949224885, 'longitude': -3...</td>\n",
       "    </tr>\n",
       "  </tbody>\n",
       "</table>\n",
       "</div>"
      ],
      "text/plain": [
       "                                                 @id  \\\n",
       "0  https://datos.madrid.es/egob/catalogo/tipo/ent...   \n",
       "1  https://datos.madrid.es/egob/catalogo/tipo/ent...   \n",
       "2  https://datos.madrid.es/egob/catalogo/tipo/ent...   \n",
       "3  https://datos.madrid.es/egob/catalogo/tipo/ent...   \n",
       "4  https://datos.madrid.es/egob/catalogo/tipo/ent...   \n",
       "\n",
       "                                               title  \\\n",
       "0                Aparcamiento mixto. Daoíz y Velarde   \n",
       "1                 Aparcamiento mixto. Fernández Shaw   \n",
       "2                      Aparcamiento mixto. Montalbán   \n",
       "3                    Aparcamiento mixto. Reyes Magos   \n",
       "4  Aparcamiento para residentes. Alcalde Sáinz de...   \n",
       "\n",
       "                                            location  \n",
       "0  {'latitude': 40.40255344121901, 'longitude': -...  \n",
       "1  {'latitude': 40.40489977502076, 'longitude': -...  \n",
       "2  {'latitude': 40.4181859174944, 'longitude': -3...  \n",
       "3  {'latitude': 40.408797321706984, 'longitude': ...  \n",
       "4  {'latitude': 40.4169949224885, 'longitude': -3...  "
      ]
     },
     "execution_count": 13,
     "metadata": {},
     "output_type": "execute_result"
    }
   ],
   "source": [
    "import pandas as pd\n",
    "datos = pd.DataFrame(data['@graph'])\n",
    "datos.head()"
   ]
  },
  {
   "cell_type": "markdown",
   "metadata": {
    "slideshow": {
     "slide_type": "slide"
    }
   },
   "source": [
    "### Podemos crear un dataframe con los datos\n",
    "\n",
    "La función  `json_normalize` de pandas, me ofrece mejores resultados cuando el dato de origen es un JSON."
   ]
  },
  {
   "cell_type": "code",
   "execution_count": 14,
   "metadata": {
    "slideshow": {
     "slide_type": "-"
    }
   },
   "outputs": [
    {
     "data": {
      "text/html": [
       "<div>\n",
       "<style scoped>\n",
       "    .dataframe tbody tr th:only-of-type {\n",
       "        vertical-align: middle;\n",
       "    }\n",
       "\n",
       "    .dataframe tbody tr th {\n",
       "        vertical-align: top;\n",
       "    }\n",
       "\n",
       "    .dataframe thead th {\n",
       "        text-align: right;\n",
       "    }\n",
       "</style>\n",
       "<table border=\"1\" class=\"dataframe\">\n",
       "  <thead>\n",
       "    <tr style=\"text-align: right;\">\n",
       "      <th></th>\n",
       "      <th>@id</th>\n",
       "      <th>title</th>\n",
       "      <th>location.latitude</th>\n",
       "      <th>location.longitude</th>\n",
       "    </tr>\n",
       "  </thead>\n",
       "  <tbody>\n",
       "    <tr>\n",
       "      <th>0</th>\n",
       "      <td>https://datos.madrid.es/egob/catalogo/tipo/ent...</td>\n",
       "      <td>Aparcamiento mixto. Daoíz y Velarde</td>\n",
       "      <td>40.402553</td>\n",
       "      <td>-3.677631</td>\n",
       "    </tr>\n",
       "    <tr>\n",
       "      <th>1</th>\n",
       "      <td>https://datos.madrid.es/egob/catalogo/tipo/ent...</td>\n",
       "      <td>Aparcamiento mixto. Fernández Shaw</td>\n",
       "      <td>40.404900</td>\n",
       "      <td>-3.668851</td>\n",
       "    </tr>\n",
       "    <tr>\n",
       "      <th>2</th>\n",
       "      <td>https://datos.madrid.es/egob/catalogo/tipo/ent...</td>\n",
       "      <td>Aparcamiento mixto. Montalbán</td>\n",
       "      <td>40.418186</td>\n",
       "      <td>-3.690958</td>\n",
       "    </tr>\n",
       "    <tr>\n",
       "      <th>3</th>\n",
       "      <td>https://datos.madrid.es/egob/catalogo/tipo/ent...</td>\n",
       "      <td>Aparcamiento mixto. Reyes Magos</td>\n",
       "      <td>40.408797</td>\n",
       "      <td>-3.676322</td>\n",
       "    </tr>\n",
       "    <tr>\n",
       "      <th>4</th>\n",
       "      <td>https://datos.madrid.es/egob/catalogo/tipo/ent...</td>\n",
       "      <td>Aparcamiento para residentes. Alcalde Sáinz de...</td>\n",
       "      <td>40.416995</td>\n",
       "      <td>-3.668449</td>\n",
       "    </tr>\n",
       "  </tbody>\n",
       "</table>\n",
       "</div>"
      ],
      "text/plain": [
       "                                                 @id  \\\n",
       "0  https://datos.madrid.es/egob/catalogo/tipo/ent...   \n",
       "1  https://datos.madrid.es/egob/catalogo/tipo/ent...   \n",
       "2  https://datos.madrid.es/egob/catalogo/tipo/ent...   \n",
       "3  https://datos.madrid.es/egob/catalogo/tipo/ent...   \n",
       "4  https://datos.madrid.es/egob/catalogo/tipo/ent...   \n",
       "\n",
       "                                               title  location.latitude  \\\n",
       "0                Aparcamiento mixto. Daoíz y Velarde          40.402553   \n",
       "1                 Aparcamiento mixto. Fernández Shaw          40.404900   \n",
       "2                      Aparcamiento mixto. Montalbán          40.418186   \n",
       "3                    Aparcamiento mixto. Reyes Magos          40.408797   \n",
       "4  Aparcamiento para residentes. Alcalde Sáinz de...          40.416995   \n",
       "\n",
       "   location.longitude  \n",
       "0           -3.677631  \n",
       "1           -3.668851  \n",
       "2           -3.690958  \n",
       "3           -3.676322  \n",
       "4           -3.668449  "
      ]
     },
     "execution_count": 14,
     "metadata": {},
     "output_type": "execute_result"
    }
   ],
   "source": [
    "\n",
    "datos = pd.json_normalize(data['@graph'])\n",
    "datos.head()"
   ]
  },
  {
   "cell_type": "markdown",
   "metadata": {
    "slideshow": {
     "slide_type": "slide"
    }
   },
   "source": [
    "## Ejemplo\n",
    "\n",
    "Ejemplo con la API del ayuntamiento de Madrid: [`https://datos.madrid.es`](https://datos.madrid.es/portal/site/egob/menuitem.9e1e2f6404558187cf35cf3584f1a5a0/?vgnextoid=374512b9ace9f310VgnVCM100000171f5a0aRCRD&vgnextchannel=374512b9ace9f310VgnVCM100000171f5a0aRCRD&vgnextfmt=default)\n",
    "\n",
    "\n",
    "\n",
    "* No parece que la API imponga restricciones en cuanto al número de peticiones diarias que se pueda realizar.\n",
    "\n",
    "* Una vez descargados los datos es posible limpiarlos, filtrar, guardarlos, analizarlos, etc."
   ]
  },
  {
   "cell_type": "markdown",
   "metadata": {
    "slideshow": {
     "slide_type": "slide"
    }
   },
   "source": [
    "## Ejercicio:\n",
    "\n",
    "Se desea conocer los parques de Bomberos situados en un radio de 10 km de la posición:\n",
    "* Latitud: 40.39\n",
    "* Longitud : -3.70"
   ]
  },
  {
   "cell_type": "code",
   "execution_count": 21,
   "metadata": {
    "slideshow": {
     "slide_type": "slide"
    }
   },
   "outputs": [
    {
     "name": "stdout",
     "output_type": "stream",
     "text": [
      "200\n"
     ]
    },
    {
     "data": {
      "text/html": [
       "<div>\n",
       "<style scoped>\n",
       "    .dataframe tbody tr th:only-of-type {\n",
       "        vertical-align: middle;\n",
       "    }\n",
       "\n",
       "    .dataframe tbody tr th {\n",
       "        vertical-align: top;\n",
       "    }\n",
       "\n",
       "    .dataframe thead th {\n",
       "        text-align: right;\n",
       "    }\n",
       "</style>\n",
       "<table border=\"1\" class=\"dataframe\">\n",
       "  <thead>\n",
       "    <tr style=\"text-align: right;\">\n",
       "      <th></th>\n",
       "      <th>@id</th>\n",
       "      <th>title</th>\n",
       "      <th>location.latitude</th>\n",
       "      <th>location.longitude</th>\n",
       "    </tr>\n",
       "  </thead>\n",
       "  <tbody>\n",
       "    <tr>\n",
       "      <th>0</th>\n",
       "      <td>https://datos.madrid.es/egob/catalogo/tipo/ent...</td>\n",
       "      <td>Parque de Bomberos 01. Chamberí</td>\n",
       "      <td>40.440221</td>\n",
       "      <td>-3.700819</td>\n",
       "    </tr>\n",
       "    <tr>\n",
       "      <th>1</th>\n",
       "      <td>https://datos.madrid.es/egob/catalogo/tipo/ent...</td>\n",
       "      <td>Parque de Bomberos 02. Salamanca</td>\n",
       "      <td>40.428511</td>\n",
       "      <td>-3.667110</td>\n",
       "    </tr>\n",
       "    <tr>\n",
       "      <th>2</th>\n",
       "      <td>https://datos.madrid.es/egob/catalogo/tipo/ent...</td>\n",
       "      <td>Parque de Bomberos 03. Centro</td>\n",
       "      <td>40.406980</td>\n",
       "      <td>-3.712283</td>\n",
       "    </tr>\n",
       "    <tr>\n",
       "      <th>3</th>\n",
       "      <td>https://datos.madrid.es/egob/catalogo/tipo/ent...</td>\n",
       "      <td>Parque de Bomberos 04. Tetuán</td>\n",
       "      <td>40.470736</td>\n",
       "      <td>-3.696052</td>\n",
       "    </tr>\n",
       "    <tr>\n",
       "      <th>4</th>\n",
       "      <td>https://datos.madrid.es/egob/catalogo/tipo/ent...</td>\n",
       "      <td>Parque de Bomberos 05. Usera</td>\n",
       "      <td>40.392031</td>\n",
       "      <td>-3.706823</td>\n",
       "    </tr>\n",
       "    <tr>\n",
       "      <th>5</th>\n",
       "      <td>https://datos.madrid.es/egob/catalogo/tipo/ent...</td>\n",
       "      <td>Parque de Bomberos 06. Centro</td>\n",
       "      <td>40.426736</td>\n",
       "      <td>-3.706550</td>\n",
       "    </tr>\n",
       "    <tr>\n",
       "      <th>6</th>\n",
       "      <td>https://datos.madrid.es/egob/catalogo/tipo/ent...</td>\n",
       "      <td>Parque de Bomberos 07. San Blas</td>\n",
       "      <td>40.428329</td>\n",
       "      <td>-3.615437</td>\n",
       "    </tr>\n",
       "    <tr>\n",
       "      <th>7</th>\n",
       "      <td>https://datos.madrid.es/egob/catalogo/tipo/ent...</td>\n",
       "      <td>Parque de Bomberos 08. Puente de Vallecas</td>\n",
       "      <td>40.394617</td>\n",
       "      <td>-3.653131</td>\n",
       "    </tr>\n",
       "    <tr>\n",
       "      <th>8</th>\n",
       "      <td>https://datos.madrid.es/egob/catalogo/tipo/ent...</td>\n",
       "      <td>Parque de Bomberos 10. Villaverde</td>\n",
       "      <td>40.339867</td>\n",
       "      <td>-3.707008</td>\n",
       "    </tr>\n",
       "    <tr>\n",
       "      <th>9</th>\n",
       "      <td>https://datos.madrid.es/egob/catalogo/tipo/ent...</td>\n",
       "      <td>Parque de Bomberos 11. Hortaleza</td>\n",
       "      <td>40.474099</td>\n",
       "      <td>-3.665084</td>\n",
       "    </tr>\n",
       "    <tr>\n",
       "      <th>10</th>\n",
       "      <td>https://datos.madrid.es/egob/catalogo/tipo/ent...</td>\n",
       "      <td>Parque de Bomberos 12. Latina</td>\n",
       "      <td>40.387985</td>\n",
       "      <td>-3.765089</td>\n",
       "    </tr>\n",
       "    <tr>\n",
       "      <th>11</th>\n",
       "      <td>https://datos.madrid.es/egob/catalogo/tipo/ent...</td>\n",
       "      <td>Parque de Bomberos 13. Vicálvaro</td>\n",
       "      <td>40.391211</td>\n",
       "      <td>-3.589643</td>\n",
       "    </tr>\n",
       "  </tbody>\n",
       "</table>\n",
       "</div>"
      ],
      "text/plain": [
       "                                                  @id  \\\n",
       "0   https://datos.madrid.es/egob/catalogo/tipo/ent...   \n",
       "1   https://datos.madrid.es/egob/catalogo/tipo/ent...   \n",
       "2   https://datos.madrid.es/egob/catalogo/tipo/ent...   \n",
       "3   https://datos.madrid.es/egob/catalogo/tipo/ent...   \n",
       "4   https://datos.madrid.es/egob/catalogo/tipo/ent...   \n",
       "5   https://datos.madrid.es/egob/catalogo/tipo/ent...   \n",
       "6   https://datos.madrid.es/egob/catalogo/tipo/ent...   \n",
       "7   https://datos.madrid.es/egob/catalogo/tipo/ent...   \n",
       "8   https://datos.madrid.es/egob/catalogo/tipo/ent...   \n",
       "9   https://datos.madrid.es/egob/catalogo/tipo/ent...   \n",
       "10  https://datos.madrid.es/egob/catalogo/tipo/ent...   \n",
       "11  https://datos.madrid.es/egob/catalogo/tipo/ent...   \n",
       "\n",
       "                                        title  location.latitude  \\\n",
       "0             Parque de Bomberos 01. Chamberí          40.440221   \n",
       "1            Parque de Bomberos 02. Salamanca          40.428511   \n",
       "2               Parque de Bomberos 03. Centro          40.406980   \n",
       "3               Parque de Bomberos 04. Tetuán          40.470736   \n",
       "4                Parque de Bomberos 05. Usera          40.392031   \n",
       "5               Parque de Bomberos 06. Centro          40.426736   \n",
       "6             Parque de Bomberos 07. San Blas          40.428329   \n",
       "7   Parque de Bomberos 08. Puente de Vallecas          40.394617   \n",
       "8           Parque de Bomberos 10. Villaverde          40.339867   \n",
       "9            Parque de Bomberos 11. Hortaleza          40.474099   \n",
       "10              Parque de Bomberos 12. Latina          40.387985   \n",
       "11           Parque de Bomberos 13. Vicálvaro          40.391211   \n",
       "\n",
       "    location.longitude  \n",
       "0            -3.700819  \n",
       "1            -3.667110  \n",
       "2            -3.712283  \n",
       "3            -3.696052  \n",
       "4            -3.706823  \n",
       "5            -3.706550  \n",
       "6            -3.615437  \n",
       "7            -3.653131  \n",
       "8            -3.707008  \n",
       "9            -3.665084  \n",
       "10           -3.765089  \n",
       "11           -3.589643  "
      ]
     },
     "execution_count": 21,
     "metadata": {},
     "output_type": "execute_result"
    }
   ],
   "source": [
    "url = 'https://datos.madrid.es/egob/catalogo/211642-0-bomberos-parques.json?latitud=40.39&longitud=-3.70&distancia=10000'\n",
    "response_API = requests.get(url)\n",
    "print(response_API.status_code)\n",
    "data = response_API.json()    # transformar los datos devueltos en json\n",
    "datos = pd.json_normalize(data['@graph'])\n",
    "datos"
   ]
  }
 ],
 "metadata": {
  "celltoolbar": "Slideshow",
  "hide_input": false,
  "kernelspec": {
   "display_name": "Python 3 (ipykernel)",
   "language": "python",
   "name": "python3"
  },
  "language_info": {
   "codemirror_mode": {
    "name": "ipython",
    "version": 3
   },
   "file_extension": ".py",
   "mimetype": "text/x-python",
   "name": "python",
   "nbconvert_exporter": "python",
   "pygments_lexer": "ipython3",
   "version": "3.10.7"
  },
  "nbTranslate": {
   "displayLangs": [
    "es",
    "en"
   ],
   "hotkey": "alt-t",
   "langInMainMenu": true,
   "sourceLang": "en",
   "targetLang": "es",
   "useGoogleTranslate": true
  },
  "toc": {
   "base_numbering": 1,
   "nav_menu": {},
   "number_sections": true,
   "sideBar": true,
   "skip_h1_title": false,
   "title_cell": "Table of Contents",
   "title_sidebar": "Contents",
   "toc_cell": false,
   "toc_position": {
    "height": "calc(100% - 180px)",
    "left": "10px",
    "top": "150px",
    "width": "317px"
   },
   "toc_section_display": true,
   "toc_window_display": true
  }
 },
 "nbformat": 4,
 "nbformat_minor": 4
}
