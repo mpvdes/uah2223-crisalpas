{
 "cells": [
  {
   "cell_type": "markdown",
   "id": "c9b1e9cb",
   "metadata": {},
   "source": [
    "### 10/05/2023\n",
    "# Clase de mapas con Martín Nadal"
   ]
  },
  {
   "cell_type": "markdown",
   "id": "44bee5d1",
   "metadata": {},
   "source": [
    "Primero instalamos folium, una librería que nos permite crear mapas."
   ]
  },
  {
   "cell_type": "code",
   "execution_count": 5,
   "id": "b91490b5",
   "metadata": {},
   "outputs": [],
   "source": [
    "#!pip install folium"
   ]
  },
  {
   "cell_type": "code",
   "execution_count": 9,
   "id": "79b3ab78",
   "metadata": {},
   "outputs": [],
   "source": [
    "# vamos a importar el paquete lo primero\n",
    "import folium"
   ]
  },
  {
   "cell_type": "code",
   "execution_count": 17,
   "id": "b824e813",
   "metadata": {
    "scrolled": true
   },
   "outputs": [
    {
     "data": {
      "text/html": [
       "<div style=\"width:100%;\"><div style=\"position:relative;width:100%;height:0;padding-bottom:60%;\"><span style=\"color:#565656\">Make this Notebook Trusted to load map: File -> Trust Notebook</span><iframe srcdoc=\"&lt;!DOCTYPE html&gt;\n",
       "&lt;html&gt;\n",
       "&lt;head&gt;\n",
       "    \n",
       "    &lt;meta http-equiv=&quot;content-type&quot; content=&quot;text/html; charset=UTF-8&quot; /&gt;\n",
       "    \n",
       "        &lt;script&gt;\n",
       "            L_NO_TOUCH = false;\n",
       "            L_DISABLE_3D = false;\n",
       "        &lt;/script&gt;\n",
       "    \n",
       "    &lt;style&gt;html, body {width: 100%;height: 100%;margin: 0;padding: 0;}&lt;/style&gt;\n",
       "    &lt;style&gt;#map {position:absolute;top:0;bottom:0;right:0;left:0;}&lt;/style&gt;\n",
       "    &lt;script src=&quot;https://cdn.jsdelivr.net/npm/leaflet@1.9.3/dist/leaflet.js&quot;&gt;&lt;/script&gt;\n",
       "    &lt;script src=&quot;https://code.jquery.com/jquery-1.12.4.min.js&quot;&gt;&lt;/script&gt;\n",
       "    &lt;script src=&quot;https://cdn.jsdelivr.net/npm/bootstrap@5.2.2/dist/js/bootstrap.bundle.min.js&quot;&gt;&lt;/script&gt;\n",
       "    &lt;script src=&quot;https://cdnjs.cloudflare.com/ajax/libs/Leaflet.awesome-markers/2.0.2/leaflet.awesome-markers.js&quot;&gt;&lt;/script&gt;\n",
       "    &lt;link rel=&quot;stylesheet&quot; href=&quot;https://cdn.jsdelivr.net/npm/leaflet@1.9.3/dist/leaflet.css&quot;/&gt;\n",
       "    &lt;link rel=&quot;stylesheet&quot; href=&quot;https://cdn.jsdelivr.net/npm/bootstrap@5.2.2/dist/css/bootstrap.min.css&quot;/&gt;\n",
       "    &lt;link rel=&quot;stylesheet&quot; href=&quot;https://netdna.bootstrapcdn.com/bootstrap/3.0.0/css/bootstrap.min.css&quot;/&gt;\n",
       "    &lt;link rel=&quot;stylesheet&quot; href=&quot;https://cdn.jsdelivr.net/npm/@fortawesome/fontawesome-free@6.2.0/css/all.min.css&quot;/&gt;\n",
       "    &lt;link rel=&quot;stylesheet&quot; href=&quot;https://cdnjs.cloudflare.com/ajax/libs/Leaflet.awesome-markers/2.0.2/leaflet.awesome-markers.css&quot;/&gt;\n",
       "    &lt;link rel=&quot;stylesheet&quot; href=&quot;https://cdn.jsdelivr.net/gh/python-visualization/folium/folium/templates/leaflet.awesome.rotate.min.css&quot;/&gt;\n",
       "    \n",
       "            &lt;meta name=&quot;viewport&quot; content=&quot;width=device-width,\n",
       "                initial-scale=1.0, maximum-scale=1.0, user-scalable=no&quot; /&gt;\n",
       "            &lt;style&gt;\n",
       "                #map_7905bf87f9628c8aa0217c77dc133b40 {\n",
       "                    position: relative;\n",
       "                    width: 100.0%;\n",
       "                    height: 100.0%;\n",
       "                    left: 0.0%;\n",
       "                    top: 0.0%;\n",
       "                }\n",
       "                .leaflet-container { font-size: 1rem; }\n",
       "            &lt;/style&gt;\n",
       "        \n",
       "&lt;/head&gt;\n",
       "&lt;body&gt;\n",
       "    \n",
       "    \n",
       "            &lt;div class=&quot;folium-map&quot; id=&quot;map_7905bf87f9628c8aa0217c77dc133b40&quot; &gt;&lt;/div&gt;\n",
       "        \n",
       "&lt;/body&gt;\n",
       "&lt;script&gt;\n",
       "    \n",
       "    \n",
       "            var map_7905bf87f9628c8aa0217c77dc133b40 = L.map(\n",
       "                &quot;map_7905bf87f9628c8aa0217c77dc133b40&quot;,\n",
       "                {\n",
       "                    center: [40.0, -3.0],\n",
       "                    crs: L.CRS.EPSG3857,\n",
       "                    zoom: 10,\n",
       "                    zoomControl: true,\n",
       "                    preferCanvas: false,\n",
       "                }\n",
       "            );\n",
       "\n",
       "            \n",
       "\n",
       "        \n",
       "    \n",
       "            var tile_layer_6076919a7df5c79dfe789b42f2558bbc = L.tileLayer(\n",
       "                &quot;https://{s}.tile.openstreetmap.org/{z}/{x}/{y}.png&quot;,\n",
       "                {&quot;attribution&quot;: &quot;Data by \\u0026copy; \\u003ca target=\\&quot;_blank\\&quot; href=\\&quot;http://openstreetmap.org\\&quot;\\u003eOpenStreetMap\\u003c/a\\u003e, under \\u003ca target=\\&quot;_blank\\&quot; href=\\&quot;http://www.openstreetmap.org/copyright\\&quot;\\u003eODbL\\u003c/a\\u003e.&quot;, &quot;detectRetina&quot;: false, &quot;maxNativeZoom&quot;: 18, &quot;maxZoom&quot;: 18, &quot;minZoom&quot;: 0, &quot;noWrap&quot;: false, &quot;opacity&quot;: 1, &quot;subdomains&quot;: &quot;abc&quot;, &quot;tms&quot;: false}\n",
       "            ).addTo(map_7905bf87f9628c8aa0217c77dc133b40);\n",
       "        \n",
       "    \n",
       "            var marker_5f7d68d84a08e302d1d24751ad261176 = L.marker(\n",
       "                [40.0, -3.0],\n",
       "                {}\n",
       "            ).addTo(map_7905bf87f9628c8aa0217c77dc133b40);\n",
       "        \n",
       "    \n",
       "        var popup_14aad83288d1ccc61b0fbd5bd9a25759 = L.popup({&quot;maxWidth&quot;: &quot;100%&quot;});\n",
       "\n",
       "        \n",
       "            \n",
       "                var html_48a0c0326213ef7750749408ba399452 = $(`&lt;div id=&quot;html_48a0c0326213ef7750749408ba399452&quot; style=&quot;width: 100.0%; height: 100.0%;&quot;&gt;Marcador&lt;/div&gt;`)[0];\n",
       "                popup_14aad83288d1ccc61b0fbd5bd9a25759.setContent(html_48a0c0326213ef7750749408ba399452);\n",
       "            \n",
       "        \n",
       "\n",
       "        marker_5f7d68d84a08e302d1d24751ad261176.bindPopup(popup_14aad83288d1ccc61b0fbd5bd9a25759)\n",
       "        ;\n",
       "\n",
       "        \n",
       "    \n",
       "    \n",
       "            marker_5f7d68d84a08e302d1d24751ad261176.bindTooltip(\n",
       "                `&lt;div&gt;\n",
       "                     Esto es un tooltip\n",
       "                 &lt;/div&gt;`,\n",
       "                {&quot;sticky&quot;: true}\n",
       "            );\n",
       "        \n",
       "&lt;/script&gt;\n",
       "&lt;/html&gt;\" style=\"position:absolute;width:100%;height:100%;left:0;top:0;border:none !important;\" allowfullscreen webkitallowfullscreen mozallowfullscreen></iframe></div></div>"
      ],
      "text/plain": [
       "<folium.folium.Map at 0x1af2183ebd0>"
      ]
     },
     "execution_count": 17,
     "metadata": {},
     "output_type": "execute_result"
    }
   ],
   "source": [
    "# y creamos un mapa con unas determinadas coordenadas\n",
    "m = folium.Map(location=(40,-3))\n",
    "\n",
    "# con un marcador\n",
    "\n",
    "marker = folium.Marker((40,-3),popup=\"Marcador\",tooltip=\"Esto es un tooltip\")\n",
    "\n",
    "#añadimos el marcador al mapa\n",
    "\n",
    "m.add_child(marker)\n",
    "\n",
    "# y mostramos el mapa, que podemos exportar rápidamente a html si queremos\n",
    "\n",
    "m"
   ]
  },
  {
   "cell_type": "code",
   "execution_count": 16,
   "id": "0311bbfc",
   "metadata": {},
   "outputs": [],
   "source": [
    "# podemos incluso guardarlo para mostrarlo ya en nuestra web con html\n",
    "\n",
    "m.save(\"mapa.html\")"
   ]
  },
  {
   "cell_type": "code",
   "execution_count": 25,
   "id": "f8349b4f",
   "metadata": {},
   "outputs": [],
   "source": [
    "# repasando pandas y python, vamos a importar pandas\n",
    "import pandas as pd\n",
    "\n",
    "# un ejemplo de comandos es loc\n",
    "# lleva dos parámetros, uno la fila y otro la columna del dato que buscamos\n",
    "# df.loc[2,'nombrecolumna1']      # no la va a ejecutar porque no hay df\n",
    "\n",
    "# también tenemos el comando iloc\n",
    "# este nos permite usar números para buscar la fila que queremos, no requiere del nombre como loc\n",
    "# df.iloc[2]\n",
    "\n",
    "# es útil también el comando list\n",
    "# nos permite ver en una lista el índice de las filas o de las columnas, por ejemplo\n",
    "# list(df.index)\n",
    "\n",
    "# podemos renombrar los índices también\n",
    "# indice = ['f1', 'f2', 'f3', 'f4']\n",
    "# df.index = indice\n",
    "\n",
    "# values nos permite convertir valores de pandas a numpy para que podamos usarlos\n",
    "# df['fila2'].values\n",
    "\n",
    "# también vamos a usar matplotlib\n",
    "import matplotlib.pyplot as plt"
   ]
  },
  {
   "cell_type": "markdown",
   "id": "c50fd255",
   "metadata": {},
   "source": [
    "Vamos a hacer prácticas con una [API con las cifras de covid](https://api.covid19api.com/countries)."
   ]
  },
  {
   "cell_type": "code",
   "execution_count": 26,
   "id": "45b158b4",
   "metadata": {},
   "outputs": [],
   "source": [
    "# vamos a añadir la url a nuestro cuaderno como una variable\n",
    "url = 'https://api.covid19api.com/countries'"
   ]
  },
  {
   "cell_type": "markdown",
   "id": "14438593",
   "metadata": {},
   "source": [
    "Está en un tipo de datos que se llama **json**, que viene de javascript object notation. .json es una manera en la que intercambiar los datos de forma que cualquier navegador lo puede entender mediante su navegador automático."
   ]
  },
  {
   "cell_type": "code",
   "execution_count": 27,
   "id": "b0ecaab5",
   "metadata": {},
   "outputs": [],
   "source": [
    "# ahora podemos leer los datos en json\n",
    "df = pd.read_json(url)"
   ]
  },
  {
   "cell_type": "code",
   "execution_count": 29,
   "id": "39a5d20a",
   "metadata": {},
   "outputs": [
    {
     "data": {
      "text/plain": [
       "'Netherlands'"
      ]
     },
     "execution_count": 29,
     "metadata": {},
     "output_type": "execute_result"
    }
   ],
   "source": [
    "# y podemos ir accediendo a ellos\n",
    "df['Country'][245]"
   ]
  },
  {
   "cell_type": "code",
   "execution_count": 32,
   "id": "ece5b120",
   "metadata": {},
   "outputs": [
    {
     "data": {
      "text/plain": [
       "0      False\n",
       "1      False\n",
       "2      False\n",
       "3      False\n",
       "4      False\n",
       "       ...  \n",
       "243    False\n",
       "244    False\n",
       "245    False\n",
       "246    False\n",
       "247    False\n",
       "Name: Country, Length: 248, dtype: bool"
      ]
     },
     "execution_count": 32,
     "metadata": {},
     "output_type": "execute_result"
    }
   ],
   "source": [
    "# si quisiéramos saber dónde está España, por ejemplo, hacemos un filtro\n",
    "df['Country'] == 'Spain'"
   ]
  },
  {
   "cell_type": "code",
   "execution_count": 33,
   "id": "a1bcd3bb",
   "metadata": {},
   "outputs": [
    {
     "data": {
      "text/html": [
       "<div>\n",
       "<style scoped>\n",
       "    .dataframe tbody tr th:only-of-type {\n",
       "        vertical-align: middle;\n",
       "    }\n",
       "\n",
       "    .dataframe tbody tr th {\n",
       "        vertical-align: top;\n",
       "    }\n",
       "\n",
       "    .dataframe thead th {\n",
       "        text-align: right;\n",
       "    }\n",
       "</style>\n",
       "<table border=\"1\" class=\"dataframe\">\n",
       "  <thead>\n",
       "    <tr style=\"text-align: right;\">\n",
       "      <th></th>\n",
       "      <th>Country</th>\n",
       "      <th>Slug</th>\n",
       "      <th>ISO2</th>\n",
       "    </tr>\n",
       "  </thead>\n",
       "  <tbody>\n",
       "    <tr>\n",
       "      <th>179</th>\n",
       "      <td>Spain</td>\n",
       "      <td>spain</td>\n",
       "      <td>ES</td>\n",
       "    </tr>\n",
       "  </tbody>\n",
       "</table>\n",
       "</div>"
      ],
      "text/plain": [
       "    Country   Slug ISO2\n",
       "179   Spain  spain   ES"
      ]
     },
     "execution_count": 33,
     "metadata": {},
     "output_type": "execute_result"
    }
   ],
   "source": [
    "# y aplicamos ese filtro sobre el df\n",
    "df[df['Country'] == 'Spain']"
   ]
  },
  {
   "cell_type": "code",
   "execution_count": 36,
   "id": "c9b66d26",
   "metadata": {},
   "outputs": [
    {
     "data": {
      "text/html": [
       "<div>\n",
       "<style scoped>\n",
       "    .dataframe tbody tr th:only-of-type {\n",
       "        vertical-align: middle;\n",
       "    }\n",
       "\n",
       "    .dataframe tbody tr th {\n",
       "        vertical-align: top;\n",
       "    }\n",
       "\n",
       "    .dataframe thead th {\n",
       "        text-align: right;\n",
       "    }\n",
       "</style>\n",
       "<table border=\"1\" class=\"dataframe\">\n",
       "  <thead>\n",
       "    <tr style=\"text-align: right;\">\n",
       "      <th></th>\n",
       "      <th>Country</th>\n",
       "      <th>Slug</th>\n",
       "      <th>ISO2</th>\n",
       "    </tr>\n",
       "  </thead>\n",
       "  <tbody>\n",
       "    <tr>\n",
       "      <th>0</th>\n",
       "      <td>Maldives</td>\n",
       "      <td>maldives</td>\n",
       "      <td>MV</td>\n",
       "    </tr>\n",
       "    <tr>\n",
       "      <th>1</th>\n",
       "      <td>Puerto Rico</td>\n",
       "      <td>puerto-rico</td>\n",
       "      <td>PR</td>\n",
       "    </tr>\n",
       "    <tr>\n",
       "      <th>2</th>\n",
       "      <td>Uganda</td>\n",
       "      <td>uganda</td>\n",
       "      <td>UG</td>\n",
       "    </tr>\n",
       "    <tr>\n",
       "      <th>3</th>\n",
       "      <td>Viet Nam</td>\n",
       "      <td>vietnam</td>\n",
       "      <td>VN</td>\n",
       "    </tr>\n",
       "    <tr>\n",
       "      <th>4</th>\n",
       "      <td>Malaysia</td>\n",
       "      <td>malaysia</td>\n",
       "      <td>MY</td>\n",
       "    </tr>\n",
       "    <tr>\n",
       "      <th>...</th>\n",
       "      <td>...</td>\n",
       "      <td>...</td>\n",
       "      <td>...</td>\n",
       "    </tr>\n",
       "    <tr>\n",
       "      <th>243</th>\n",
       "      <td>Austria</td>\n",
       "      <td>austria</td>\n",
       "      <td>AT</td>\n",
       "    </tr>\n",
       "    <tr>\n",
       "      <th>244</th>\n",
       "      <td>Haiti</td>\n",
       "      <td>haiti</td>\n",
       "      <td>HT</td>\n",
       "    </tr>\n",
       "    <tr>\n",
       "      <th>245</th>\n",
       "      <td>Netherlands</td>\n",
       "      <td>netherlands</td>\n",
       "      <td>NL</td>\n",
       "    </tr>\n",
       "    <tr>\n",
       "      <th>246</th>\n",
       "      <td>New Caledonia</td>\n",
       "      <td>new-caledonia</td>\n",
       "      <td>NC</td>\n",
       "    </tr>\n",
       "    <tr>\n",
       "      <th>247</th>\n",
       "      <td>Trinidad and Tobago</td>\n",
       "      <td>trinidad-and-tobago</td>\n",
       "      <td>TT</td>\n",
       "    </tr>\n",
       "  </tbody>\n",
       "</table>\n",
       "<p>248 rows × 3 columns</p>\n",
       "</div>"
      ],
      "text/plain": [
       "                 Country                 Slug ISO2\n",
       "0               Maldives             maldives   MV\n",
       "1            Puerto Rico          puerto-rico   PR\n",
       "2                 Uganda               uganda   UG\n",
       "3               Viet Nam              vietnam   VN\n",
       "4               Malaysia             malaysia   MY\n",
       "..                   ...                  ...  ...\n",
       "243              Austria              austria   AT\n",
       "244                Haiti                haiti   HT\n",
       "245          Netherlands          netherlands   NL\n",
       "246        New Caledonia        new-caledonia   NC\n",
       "247  Trinidad and Tobago  trinidad-and-tobago   TT\n",
       "\n",
       "[248 rows x 3 columns]"
      ]
     },
     "execution_count": 36,
     "metadata": {},
     "output_type": "execute_result"
    }
   ],
   "source": [
    "# en la página web podemos ver más datos sobre las columnas\n",
    "# primero, vamos a echar un vistazo al dataframe\n",
    "df"
   ]
  },
  {
   "cell_type": "code",
   "execution_count": 39,
   "id": "71cd8daf",
   "metadata": {},
   "outputs": [],
   "source": [
    "# sin embargo, este dataframe solo nos incluye los nombres de los países\n",
    "# así que a partir de aquí podemos buscar los datos de un país concreto\n",
    "# por ejemplo, en el caso de San Marino, tendríamos que buscar por el slug concreto\n",
    "url = 'https://api.covid19api.com/country/san-marino/status/confirmed/live'"
   ]
  },
  {
   "cell_type": "markdown",
   "id": "eb890a8f",
   "metadata": {},
   "source": [
    "Vamos a trabajar ahora por ejemplo con los datos de **Alemania** y de **Sudáfrica**."
   ]
  },
  {
   "cell_type": "code",
   "execution_count": 66,
   "id": "2a5c28ed",
   "metadata": {},
   "outputs": [],
   "source": [
    "# alemania\n",
    "url = 'https://api.covid19api.com/country/germany/status/confirmed/live'\n",
    "de = pd.read_json(url)\n",
    "\n",
    "# sudáfrica\n",
    "url = 'https://api.covid19api.com/country/south-africa/status/confirmed/live'\n",
    "sa = pd.read_json(url)"
   ]
  },
  {
   "cell_type": "code",
   "execution_count": 67,
   "id": "ff09ceb2",
   "metadata": {},
   "outputs": [],
   "source": [
    "# vamos a crear un dataframe solo con los datos de casos ('Cases') de ambos países\n",
    "# los sacamos por un índice de fecha para luego poder concatenarlos\n",
    "casos_de = de.set_index('Date')['Cases']\n",
    "casos_sa = sa.set_index('Date')['Cases']"
   ]
  },
  {
   "cell_type": "code",
   "execution_count": 54,
   "id": "63de86fa",
   "metadata": {},
   "outputs": [
    {
     "data": {
      "text/html": [
       "<div>\n",
       "<style scoped>\n",
       "    .dataframe tbody tr th:only-of-type {\n",
       "        vertical-align: middle;\n",
       "    }\n",
       "\n",
       "    .dataframe tbody tr th {\n",
       "        vertical-align: top;\n",
       "    }\n",
       "\n",
       "    .dataframe thead th {\n",
       "        text-align: right;\n",
       "    }\n",
       "</style>\n",
       "<table border=\"1\" class=\"dataframe\">\n",
       "  <thead>\n",
       "    <tr style=\"text-align: right;\">\n",
       "      <th></th>\n",
       "      <th>Cases</th>\n",
       "      <th>Cases</th>\n",
       "    </tr>\n",
       "    <tr>\n",
       "      <th>Date</th>\n",
       "      <th></th>\n",
       "      <th></th>\n",
       "    </tr>\n",
       "  </thead>\n",
       "  <tbody>\n",
       "    <tr>\n",
       "      <th>2020-01-22 00:00:00+00:00</th>\n",
       "      <td>0</td>\n",
       "      <td>0</td>\n",
       "    </tr>\n",
       "    <tr>\n",
       "      <th>2020-01-23 00:00:00+00:00</th>\n",
       "      <td>0</td>\n",
       "      <td>0</td>\n",
       "    </tr>\n",
       "    <tr>\n",
       "      <th>2020-01-24 00:00:00+00:00</th>\n",
       "      <td>0</td>\n",
       "      <td>0</td>\n",
       "    </tr>\n",
       "    <tr>\n",
       "      <th>2020-01-25 00:00:00+00:00</th>\n",
       "      <td>0</td>\n",
       "      <td>0</td>\n",
       "    </tr>\n",
       "    <tr>\n",
       "      <th>2020-01-26 00:00:00+00:00</th>\n",
       "      <td>0</td>\n",
       "      <td>0</td>\n",
       "    </tr>\n",
       "    <tr>\n",
       "      <th>...</th>\n",
       "      <td>...</td>\n",
       "      <td>...</td>\n",
       "    </tr>\n",
       "    <tr>\n",
       "      <th>2023-03-05 00:00:00+00:00</th>\n",
       "      <td>38210851</td>\n",
       "      <td>4064889</td>\n",
       "    </tr>\n",
       "    <tr>\n",
       "      <th>2023-03-06 00:00:00+00:00</th>\n",
       "      <td>38210851</td>\n",
       "      <td>4065857</td>\n",
       "    </tr>\n",
       "    <tr>\n",
       "      <th>2023-03-07 00:00:00+00:00</th>\n",
       "      <td>38231610</td>\n",
       "      <td>4066044</td>\n",
       "    </tr>\n",
       "    <tr>\n",
       "      <th>2023-03-08 00:00:00+00:00</th>\n",
       "      <td>38241231</td>\n",
       "      <td>4066641</td>\n",
       "    </tr>\n",
       "    <tr>\n",
       "      <th>2023-03-09 00:00:00+00:00</th>\n",
       "      <td>38249060</td>\n",
       "      <td>4067067</td>\n",
       "    </tr>\n",
       "  </tbody>\n",
       "</table>\n",
       "<p>1143 rows × 2 columns</p>\n",
       "</div>"
      ],
      "text/plain": [
       "                              Cases    Cases\n",
       "Date                                        \n",
       "2020-01-22 00:00:00+00:00         0        0\n",
       "2020-01-23 00:00:00+00:00         0        0\n",
       "2020-01-24 00:00:00+00:00         0        0\n",
       "2020-01-25 00:00:00+00:00         0        0\n",
       "2020-01-26 00:00:00+00:00         0        0\n",
       "...                             ...      ...\n",
       "2023-03-05 00:00:00+00:00  38210851  4064889\n",
       "2023-03-06 00:00:00+00:00  38210851  4065857\n",
       "2023-03-07 00:00:00+00:00  38231610  4066044\n",
       "2023-03-08 00:00:00+00:00  38241231  4066641\n",
       "2023-03-09 00:00:00+00:00  38249060  4067067\n",
       "\n",
       "[1143 rows x 2 columns]"
      ]
     },
     "execution_count": 54,
     "metadata": {},
     "output_type": "execute_result"
    }
   ],
   "source": [
    "# y ahora concatenamos los datos de Alemania y de Sudáfrica con la función concat\n",
    "# la función concat necesita los parámetros de los dataframe que queremos concatenar y de cómo queremos concatenarlos\n",
    "# si ponemos axis=1 significa que nos los ponga en dos columnas distintas, no que nos los ponga en la misma de seguido\n",
    "# lo hacemos en un nuevo dataframe que se llama agregados\n",
    "agregados = pd.concat([casos_de,casos_sa],axis=1)\n",
    "agregados"
   ]
  },
  {
   "cell_type": "code",
   "execution_count": 60,
   "id": "bb8a9b3e",
   "metadata": {},
   "outputs": [
    {
     "data": {
      "text/html": [
       "<div>\n",
       "<style scoped>\n",
       "    .dataframe tbody tr th:only-of-type {\n",
       "        vertical-align: middle;\n",
       "    }\n",
       "\n",
       "    .dataframe tbody tr th {\n",
       "        vertical-align: top;\n",
       "    }\n",
       "\n",
       "    .dataframe thead th {\n",
       "        text-align: right;\n",
       "    }\n",
       "</style>\n",
       "<table border=\"1\" class=\"dataframe\">\n",
       "  <thead>\n",
       "    <tr style=\"text-align: right;\">\n",
       "      <th></th>\n",
       "      <th>Alemania</th>\n",
       "      <th>Sudáfrica</th>\n",
       "    </tr>\n",
       "    <tr>\n",
       "      <th>Date</th>\n",
       "      <th></th>\n",
       "      <th></th>\n",
       "    </tr>\n",
       "  </thead>\n",
       "  <tbody>\n",
       "    <tr>\n",
       "      <th>2020-01-22 00:00:00+00:00</th>\n",
       "      <td>0</td>\n",
       "      <td>0</td>\n",
       "    </tr>\n",
       "    <tr>\n",
       "      <th>2020-01-23 00:00:00+00:00</th>\n",
       "      <td>0</td>\n",
       "      <td>0</td>\n",
       "    </tr>\n",
       "    <tr>\n",
       "      <th>2020-01-24 00:00:00+00:00</th>\n",
       "      <td>0</td>\n",
       "      <td>0</td>\n",
       "    </tr>\n",
       "    <tr>\n",
       "      <th>2020-01-25 00:00:00+00:00</th>\n",
       "      <td>0</td>\n",
       "      <td>0</td>\n",
       "    </tr>\n",
       "    <tr>\n",
       "      <th>2020-01-26 00:00:00+00:00</th>\n",
       "      <td>0</td>\n",
       "      <td>0</td>\n",
       "    </tr>\n",
       "    <tr>\n",
       "      <th>...</th>\n",
       "      <td>...</td>\n",
       "      <td>...</td>\n",
       "    </tr>\n",
       "    <tr>\n",
       "      <th>2023-03-05 00:00:00+00:00</th>\n",
       "      <td>38210851</td>\n",
       "      <td>4064889</td>\n",
       "    </tr>\n",
       "    <tr>\n",
       "      <th>2023-03-06 00:00:00+00:00</th>\n",
       "      <td>38210851</td>\n",
       "      <td>4065857</td>\n",
       "    </tr>\n",
       "    <tr>\n",
       "      <th>2023-03-07 00:00:00+00:00</th>\n",
       "      <td>38231610</td>\n",
       "      <td>4066044</td>\n",
       "    </tr>\n",
       "    <tr>\n",
       "      <th>2023-03-08 00:00:00+00:00</th>\n",
       "      <td>38241231</td>\n",
       "      <td>4066641</td>\n",
       "    </tr>\n",
       "    <tr>\n",
       "      <th>2023-03-09 00:00:00+00:00</th>\n",
       "      <td>38249060</td>\n",
       "      <td>4067067</td>\n",
       "    </tr>\n",
       "  </tbody>\n",
       "</table>\n",
       "<p>1143 rows × 2 columns</p>\n",
       "</div>"
      ],
      "text/plain": [
       "                           Alemania  Sudáfrica\n",
       "Date                                          \n",
       "2020-01-22 00:00:00+00:00         0          0\n",
       "2020-01-23 00:00:00+00:00         0          0\n",
       "2020-01-24 00:00:00+00:00         0          0\n",
       "2020-01-25 00:00:00+00:00         0          0\n",
       "2020-01-26 00:00:00+00:00         0          0\n",
       "...                             ...        ...\n",
       "2023-03-05 00:00:00+00:00  38210851    4064889\n",
       "2023-03-06 00:00:00+00:00  38210851    4065857\n",
       "2023-03-07 00:00:00+00:00  38231610    4066044\n",
       "2023-03-08 00:00:00+00:00  38241231    4066641\n",
       "2023-03-09 00:00:00+00:00  38249060    4067067\n",
       "\n",
       "[1143 rows x 2 columns]"
      ]
     },
     "execution_count": 60,
     "metadata": {},
     "output_type": "execute_result"
    }
   ],
   "source": [
    "# cambiamos el índice para que nos salga a qué valores corresponde cada línea en la tabla\n",
    "agregados.columns = ['Alemania','Sudáfrica']\n",
    "agregados"
   ]
  },
  {
   "cell_type": "code",
   "execution_count": 61,
   "id": "978ec5c2",
   "metadata": {},
   "outputs": [
    {
     "data": {
      "text/plain": [
       "<Axes: xlabel='Date'>"
      ]
     },
     "execution_count": 61,
     "metadata": {},
     "output_type": "execute_result"
    },
    {
     "data": {
      "image/png": "[encoded data removed]",
      "text/plain": [
       "<Figure size 640x480 with 1 Axes>"
      ]
     },
     "metadata": {},
     "output_type": "display_data"
    }
   ],
   "source": [
    "# visualizamos\n",
    "agregados.plot()"
   ]
  },
  {
   "cell_type": "markdown",
   "id": "c67de4e8",
   "metadata": {},
   "source": [
    "Ahora por ejemplo vamos a agregar los datos de **España**."
   ]
  },
  {
   "cell_type": "code",
   "execution_count": 64,
   "id": "07ba7a03",
   "metadata": {},
   "outputs": [],
   "source": [
    "# españa\n",
    "url = 'https://api.covid19api.com/country/spain/status/confirmed/live'\n",
    "es = pd.read_json(url)"
   ]
  },
  {
   "cell_type": "code",
   "execution_count": 68,
   "id": "36f3d349",
   "metadata": {},
   "outputs": [],
   "source": [
    "casos_es = es.set_index('Date')['Cases']"
   ]
  },
  {
   "cell_type": "code",
   "execution_count": 69,
   "id": "425fca55",
   "metadata": {},
   "outputs": [
    {
     "data": {
      "text/html": [
       "<div>\n",
       "<style scoped>\n",
       "    .dataframe tbody tr th:only-of-type {\n",
       "        vertical-align: middle;\n",
       "    }\n",
       "\n",
       "    .dataframe tbody tr th {\n",
       "        vertical-align: top;\n",
       "    }\n",
       "\n",
       "    .dataframe thead th {\n",
       "        text-align: right;\n",
       "    }\n",
       "</style>\n",
       "<table border=\"1\" class=\"dataframe\">\n",
       "  <thead>\n",
       "    <tr style=\"text-align: right;\">\n",
       "      <th></th>\n",
       "      <th>Cases</th>\n",
       "      <th>Cases</th>\n",
       "      <th>Cases</th>\n",
       "    </tr>\n",
       "    <tr>\n",
       "      <th>Date</th>\n",
       "      <th></th>\n",
       "      <th></th>\n",
       "      <th></th>\n",
       "    </tr>\n",
       "  </thead>\n",
       "  <tbody>\n",
       "    <tr>\n",
       "      <th>2020-01-22 00:00:00+00:00</th>\n",
       "      <td>0</td>\n",
       "      <td>0</td>\n",
       "      <td>0</td>\n",
       "    </tr>\n",
       "    <tr>\n",
       "      <th>2020-01-23 00:00:00+00:00</th>\n",
       "      <td>0</td>\n",
       "      <td>0</td>\n",
       "      <td>0</td>\n",
       "    </tr>\n",
       "    <tr>\n",
       "      <th>2020-01-24 00:00:00+00:00</th>\n",
       "      <td>0</td>\n",
       "      <td>0</td>\n",
       "      <td>0</td>\n",
       "    </tr>\n",
       "    <tr>\n",
       "      <th>2020-01-25 00:00:00+00:00</th>\n",
       "      <td>0</td>\n",
       "      <td>0</td>\n",
       "      <td>0</td>\n",
       "    </tr>\n",
       "    <tr>\n",
       "      <th>2020-01-26 00:00:00+00:00</th>\n",
       "      <td>0</td>\n",
       "      <td>0</td>\n",
       "      <td>0</td>\n",
       "    </tr>\n",
       "    <tr>\n",
       "      <th>...</th>\n",
       "      <td>...</td>\n",
       "      <td>...</td>\n",
       "      <td>...</td>\n",
       "    </tr>\n",
       "    <tr>\n",
       "      <th>2023-03-05 00:00:00+00:00</th>\n",
       "      <td>38210851</td>\n",
       "      <td>4064889</td>\n",
       "      <td>13770429</td>\n",
       "    </tr>\n",
       "    <tr>\n",
       "      <th>2023-03-06 00:00:00+00:00</th>\n",
       "      <td>38210851</td>\n",
       "      <td>4065857</td>\n",
       "      <td>13770429</td>\n",
       "    </tr>\n",
       "    <tr>\n",
       "      <th>2023-03-07 00:00:00+00:00</th>\n",
       "      <td>38231610</td>\n",
       "      <td>4066044</td>\n",
       "      <td>13770429</td>\n",
       "    </tr>\n",
       "    <tr>\n",
       "      <th>2023-03-08 00:00:00+00:00</th>\n",
       "      <td>38241231</td>\n",
       "      <td>4066641</td>\n",
       "      <td>13770429</td>\n",
       "    </tr>\n",
       "    <tr>\n",
       "      <th>2023-03-09 00:00:00+00:00</th>\n",
       "      <td>38249060</td>\n",
       "      <td>4067067</td>\n",
       "      <td>13770429</td>\n",
       "    </tr>\n",
       "  </tbody>\n",
       "</table>\n",
       "<p>1143 rows × 3 columns</p>\n",
       "</div>"
      ],
      "text/plain": [
       "                              Cases    Cases     Cases\n",
       "Date                                                  \n",
       "2020-01-22 00:00:00+00:00         0        0         0\n",
       "2020-01-23 00:00:00+00:00         0        0         0\n",
       "2020-01-24 00:00:00+00:00         0        0         0\n",
       "2020-01-25 00:00:00+00:00         0        0         0\n",
       "2020-01-26 00:00:00+00:00         0        0         0\n",
       "...                             ...      ...       ...\n",
       "2023-03-05 00:00:00+00:00  38210851  4064889  13770429\n",
       "2023-03-06 00:00:00+00:00  38210851  4065857  13770429\n",
       "2023-03-07 00:00:00+00:00  38231610  4066044  13770429\n",
       "2023-03-08 00:00:00+00:00  38241231  4066641  13770429\n",
       "2023-03-09 00:00:00+00:00  38249060  4067067  13770429\n",
       "\n",
       "[1143 rows x 3 columns]"
      ]
     },
     "execution_count": 69,
     "metadata": {},
     "output_type": "execute_result"
    }
   ],
   "source": [
    "agregados = pd.concat([casos_de,casos_sa,casos_es],axis=1)\n",
    "agregados"
   ]
  },
  {
   "cell_type": "code",
   "execution_count": 70,
   "id": "a8eb849c",
   "metadata": {},
   "outputs": [
    {
     "data": {
      "text/html": [
       "<div>\n",
       "<style scoped>\n",
       "    .dataframe tbody tr th:only-of-type {\n",
       "        vertical-align: middle;\n",
       "    }\n",
       "\n",
       "    .dataframe tbody tr th {\n",
       "        vertical-align: top;\n",
       "    }\n",
       "\n",
       "    .dataframe thead th {\n",
       "        text-align: right;\n",
       "    }\n",
       "</style>\n",
       "<table border=\"1\" class=\"dataframe\">\n",
       "  <thead>\n",
       "    <tr style=\"text-align: right;\">\n",
       "      <th></th>\n",
       "      <th>Alemania</th>\n",
       "      <th>Sudáfrica</th>\n",
       "      <th>España</th>\n",
       "    </tr>\n",
       "    <tr>\n",
       "      <th>Date</th>\n",
       "      <th></th>\n",
       "      <th></th>\n",
       "      <th></th>\n",
       "    </tr>\n",
       "  </thead>\n",
       "  <tbody>\n",
       "    <tr>\n",
       "      <th>2020-01-22 00:00:00+00:00</th>\n",
       "      <td>0</td>\n",
       "      <td>0</td>\n",
       "      <td>0</td>\n",
       "    </tr>\n",
       "    <tr>\n",
       "      <th>2020-01-23 00:00:00+00:00</th>\n",
       "      <td>0</td>\n",
       "      <td>0</td>\n",
       "      <td>0</td>\n",
       "    </tr>\n",
       "    <tr>\n",
       "      <th>2020-01-24 00:00:00+00:00</th>\n",
       "      <td>0</td>\n",
       "      <td>0</td>\n",
       "      <td>0</td>\n",
       "    </tr>\n",
       "    <tr>\n",
       "      <th>2020-01-25 00:00:00+00:00</th>\n",
       "      <td>0</td>\n",
       "      <td>0</td>\n",
       "      <td>0</td>\n",
       "    </tr>\n",
       "    <tr>\n",
       "      <th>2020-01-26 00:00:00+00:00</th>\n",
       "      <td>0</td>\n",
       "      <td>0</td>\n",
       "      <td>0</td>\n",
       "    </tr>\n",
       "    <tr>\n",
       "      <th>...</th>\n",
       "      <td>...</td>\n",
       "      <td>...</td>\n",
       "      <td>...</td>\n",
       "    </tr>\n",
       "    <tr>\n",
       "      <th>2023-03-05 00:00:00+00:00</th>\n",
       "      <td>38210851</td>\n",
       "      <td>4064889</td>\n",
       "      <td>13770429</td>\n",
       "    </tr>\n",
       "    <tr>\n",
       "      <th>2023-03-06 00:00:00+00:00</th>\n",
       "      <td>38210851</td>\n",
       "      <td>4065857</td>\n",
       "      <td>13770429</td>\n",
       "    </tr>\n",
       "    <tr>\n",
       "      <th>2023-03-07 00:00:00+00:00</th>\n",
       "      <td>38231610</td>\n",
       "      <td>4066044</td>\n",
       "      <td>13770429</td>\n",
       "    </tr>\n",
       "    <tr>\n",
       "      <th>2023-03-08 00:00:00+00:00</th>\n",
       "      <td>38241231</td>\n",
       "      <td>4066641</td>\n",
       "      <td>13770429</td>\n",
       "    </tr>\n",
       "    <tr>\n",
       "      <th>2023-03-09 00:00:00+00:00</th>\n",
       "      <td>38249060</td>\n",
       "      <td>4067067</td>\n",
       "      <td>13770429</td>\n",
       "    </tr>\n",
       "  </tbody>\n",
       "</table>\n",
       "<p>1143 rows × 3 columns</p>\n",
       "</div>"
      ],
      "text/plain": [
       "                           Alemania  Sudáfrica    España\n",
       "Date                                                    \n",
       "2020-01-22 00:00:00+00:00         0          0         0\n",
       "2020-01-23 00:00:00+00:00         0          0         0\n",
       "2020-01-24 00:00:00+00:00         0          0         0\n",
       "2020-01-25 00:00:00+00:00         0          0         0\n",
       "2020-01-26 00:00:00+00:00         0          0         0\n",
       "...                             ...        ...       ...\n",
       "2023-03-05 00:00:00+00:00  38210851    4064889  13770429\n",
       "2023-03-06 00:00:00+00:00  38210851    4065857  13770429\n",
       "2023-03-07 00:00:00+00:00  38231610    4066044  13770429\n",
       "2023-03-08 00:00:00+00:00  38241231    4066641  13770429\n",
       "2023-03-09 00:00:00+00:00  38249060    4067067  13770429\n",
       "\n",
       "[1143 rows x 3 columns]"
      ]
     },
     "execution_count": 70,
     "metadata": {},
     "output_type": "execute_result"
    }
   ],
   "source": [
    "agregados.columns = ['Alemania','Sudáfrica','España']\n",
    "agregados"
   ]
  },
  {
   "cell_type": "code",
   "execution_count": 71,
   "id": "f1536994",
   "metadata": {},
   "outputs": [
    {
     "data": {
      "text/plain": [
       "<Axes: xlabel='Date'>"
      ]
     },
     "execution_count": 71,
     "metadata": {},
     "output_type": "execute_result"
    },
    {
     "data": {
      "image/png": "[encoded data removed]",
      "text/plain": [
       "<Figure size 640x480 with 1 Axes>"
      ]
     },
     "metadata": {},
     "output_type": "display_data"
    }
   ],
   "source": [
    "# visualizamos\n",
    "agregados.plot()"
   ]
  },
  {
   "cell_type": "markdown",
   "id": "681a6178",
   "metadata": {},
   "source": [
    "Y cuando terminamos de trabajar con los datos **los guardamos en un csv**."
   ]
  },
  {
   "cell_type": "code",
   "execution_count": 72,
   "id": "d559980c",
   "metadata": {},
   "outputs": [],
   "source": [
    "agregados.to_csv('agregados_DE_SA_ES.csv')"
   ]
  },
  {
   "cell_type": "code",
   "execution_count": null,
   "id": "716e4c1d",
   "metadata": {},
   "outputs": [],
   "source": []
  },
  {
   "cell_type": "code",
   "execution_count": null,
   "id": "fa28aca5",
   "metadata": {},
   "outputs": [],
   "source": []
  },
  {
   "cell_type": "code",
   "execution_count": null,
   "id": "3c1707fa",
   "metadata": {},
   "outputs": [],
   "source": []
  }
 ],
 "metadata": {
  "kernelspec": {
   "display_name": "Python 3 (ipykernel)",
   "language": "python",
   "name": "python3"
  },
  "language_info": {
   "codemirror_mode": {
    "name": "ipython",
    "version": 3
   },
   "file_extension": ".py",
   "mimetype": "text/x-python",
   "name": "python",
   "nbconvert_exporter": "python",
   "pygments_lexer": "ipython3",
   "version": "3.11.1"
  }
 },
 "nbformat": 4,
 "nbformat_minor": 5
}
