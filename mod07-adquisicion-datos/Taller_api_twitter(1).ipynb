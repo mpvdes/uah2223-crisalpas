{
 "cells": [
  {
   "cell_type": "markdown",
   "metadata": {},
   "source": [
    "# Taller API Twitter \n"
   ]
  },
  {
   "cell_type": "markdown",
   "metadata": {},
   "source": [
    "## Credenciales\n",
    "\n",
    "Gracias Adolfo!!!\n",
    "\n",
    "__Adolfo set keys:__\n",
    "\n",
    "Consumer Tokens\n",
    "- Api Key :: KGqcd3Z7uQ7eIe9wmfHw8iTct\n",
    "- Api Key Secret :: qcRWczXP1DnXWdcPOsPYeIAHE2GAdfISPOzIeMVtXALpUfdxlG\n",
    "\n",
    "Authentication Tokens\n",
    "- Bearer token :: AAAAAAAAAAAAAAAAAAAAAC9iTAEAAAAAUjX4r4%2Fy3h4BZK2FjtGRN2xWo8Q%3DeQSu4Lfqvn2MpoHl5YF0AtTwcjnzMncZHHwKhKpBqGji43uAxi\n",
    "- Access Token :: 823057-wjcE6pMc0bVUuv5jCy18IGD8cjPI0YpSaybI94baWEI\n",
    "- Access Token Secret :: OQs190WtL7gNVl7uSfdkS6OgIzxjLibmWiifTq8hE9cLT"
   ]
  },
  {
   "cell_type": "markdown",
   "metadata": {},
   "source": [
    "### __API v1.1__\n",
    "\n",
    "Lo primero que vamos a hacer es crear un objeto de la clase `API` de la librería `tweepy` usando las credenciales. Si todo va bien, podremos realizar consultas usando dicho objeto.\n",
    "\n"
   ]
  },
  {
   "cell_type": "code",
   "execution_count": 1,
   "metadata": {},
   "outputs": [],
   "source": [
    "import tweepy\n",
    "\n",
    "consumer_key = \"KGqcd3Z7uQ7eIe9wmfHw8iTct\"\n",
    "consumer_secret = \"qcRWczXP1DnXWdcPOsPYeIAHE2GAdfISPOzIeMVtXALpUfdxlG\"\n",
    "\n",
    "access_token = \"823057-wjcE6pMc0bVUuv5jCy18IGD8cjPI0YpSaybI94baWEI\"\n",
    "access_token_secret = \"OQs190WtL7gNVl7uSfdkS6OgIzxjLibmWiifTq8hE9cLT\"\n",
    "\n",
    "auth = tweepy.OAuthHandler(consumer_key, consumer_secret)\n",
    "auth.set_access_token(access_token, access_token_secret)\n",
    "\n",
    "api = tweepy.API(auth)  # creación del objeto de la clase API"
   ]
  },
  {
   "cell_type": "markdown",
   "metadata": {},
   "source": [
    "### __API v2__\n",
    "\n",
    "Para trabajar con la versión v2 de la API, usamos un objeto de la clase  `Client`."
   ]
  },
  {
   "cell_type": "code",
   "execution_count": 9,
   "metadata": {},
   "outputs": [],
   "source": [
    "import tweepy\n",
    "import pandas as pd\n",
    "\n",
    "Bearer_token_adolfo=\"AAAAAAAAAAAAAAAAAAAAAC9iTAEAAAAAUjX4r4%2Fy3h4BZK2FjtGRN2xWo8Q%3DeQSu4Lfqvn2MpoHl5YF0AtTwcjnzMncZHHwKhKpBqGji43uAxi\"\n",
    "client = tweepy.Client(bearer_token=Bearer_token_adolfo)"
   ]
  },
  {
   "cell_type": "code",
   "execution_count": 3,
   "metadata": {},
   "outputs": [
    {
     "data": {
      "text/plain": [
       "<tweepy.client.Client at 0x12ec71df4c0>"
      ]
     },
     "execution_count": 3,
     "metadata": {},
     "output_type": "execute_result"
    }
   ],
   "source": [
    "client"
   ]
  },
  {
   "cell_type": "markdown",
   "metadata": {},
   "source": [
    "## Consultas \n",
    "\n",
    "Usando el objeto  ` api` o el objeto `client`, realizar las siguientes consultas:"
   ]
  },
  {
   "cell_type": "markdown",
   "metadata": {},
   "source": [
    "### 1. \n",
    "Recuperar 10 tweets que mencionen alguna de las cuentas de los siguientes políticos:\n",
    "\n",
    "* @alferma1\n",
    "* @luistudanca\n",
    "* @juan_ggallardo\n",
    "* @FranciscoIgea"
   ]
  },
  {
   "cell_type": "code",
   "execution_count": 10,
   "metadata": {},
   "outputs": [
    {
     "data": {
      "text/plain": [
       "'@alferma1 @luistudanca @juan_ggallardo @FranciscoIgea'"
      ]
     },
     "execution_count": 10,
     "metadata": {},
     "output_type": "execute_result"
    }
   ],
   "source": [
    "# Sol:\n",
    "p1 = '@alferma1'\n",
    "p2 = '@luistudanca'\n",
    "p3 = '@juan_ggallardo'\n",
    "p4 = '@FranciscoIgea'\n"
   ]
  },
  {
   "cell_type": "markdown",
   "metadata": {},
   "source": [
    "### 2.\n",
    "Recuperar 100 tweets que mencionan las cuentas de los políticos anteriores y que no sean retweets:\n"
   ]
  },
  {
   "cell_type": "code",
   "execution_count": 1,
   "metadata": {},
   "outputs": [],
   "source": [
    "#Sol "
   ]
  },
  {
   "cell_type": "markdown",
   "metadata": {},
   "source": [
    "### 3.\n",
    "Recuperar 100 tweets que mencionan las cuentas de los políticos anteriores y que no sean retweets:\n",
    "Además solicitar también el número de retweets."
   ]
  },
  {
   "cell_type": "code",
   "execution_count": 2,
   "metadata": {},
   "outputs": [],
   "source": [
    "#Sol: \n"
   ]
  },
  {
   "cell_type": "markdown",
   "metadata": {},
   "source": [
    "### 4.\n",
    "Recuperar 500 tweets que mencionan las cuentas de los políticos anteriores. Usar `Paginator`. Imprimir el texto de cada uno de ellos."
   ]
  },
  {
   "cell_type": "code",
   "execution_count": 3,
   "metadata": {},
   "outputs": [],
   "source": [
    "# Sol:\n",
    "\n"
   ]
  },
  {
   "cell_type": "markdown",
   "metadata": {},
   "source": [
    "### 5.\n",
    "Recuperar 500 tweets que mencionan las cuentas de los políticos anteriores. Usar `Paginator`. Imprimir el texto de cada uno de ellos y la información de la geolocalización."
   ]
  },
  {
   "cell_type": "code",
   "execution_count": 4,
   "metadata": {},
   "outputs": [],
   "source": [
    "# Sol:\n"
   ]
  },
  {
   "cell_type": "code",
   "execution_count": null,
   "metadata": {},
   "outputs": [],
   "source": []
  }
 ],
 "metadata": {
  "hide_input": false,
  "kernelspec": {
   "display_name": "Python 3 (ipykernel)",
   "language": "python",
   "name": "python3"
  },
  "language_info": {
   "codemirror_mode": {
    "name": "ipython",
    "version": 3
   },
   "file_extension": ".py",
   "mimetype": "text/x-python",
   "name": "python",
   "nbconvert_exporter": "python",
   "pygments_lexer": "ipython3",
   "version": "3.10.7"
  },
  "nbTranslate": {
   "displayLangs": [
    "en",
    "es"
   ],
   "hotkey": "alt-t",
   "langInMainMenu": true,
   "sourceLang": "es",
   "targetLang": "en",
   "useGoogleTranslate": true
  },
  "toc": {
   "base_numbering": 1,
   "nav_menu": {},
   "number_sections": true,
   "sideBar": true,
   "skip_h1_title": false,
   "title_cell": "Table of Contents",
   "title_sidebar": "Contents",
   "toc_cell": false,
   "toc_position": {
    "height": "calc(100% - 180px)",
    "left": "10px",
    "top": "150px",
    "width": "170.833px"
   },
   "toc_section_display": true,
   "toc_window_display": true
  }
 },
 "nbformat": 4,
 "nbformat_minor": 4
}
