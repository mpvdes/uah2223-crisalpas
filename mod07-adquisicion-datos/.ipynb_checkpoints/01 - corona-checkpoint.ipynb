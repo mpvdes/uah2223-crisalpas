{
 "cells": [
  {
   "cell_type": "markdown",
   "id": "6bd3371f",
   "metadata": {
    "id": "6bd3371f"
   },
   "source": [
    "# Ejemplo de lectura de datos"
   ]
  },
  {
   "cell_type": "code",
   "execution_count": null,
   "id": "7ff88a0b",
   "metadata": {
    "executionInfo": {
     "elapsed": 721,
     "status": "ok",
     "timestamp": 1671201683122,
     "user": {
      "displayName": "Martín Nadal",
      "userId": "07858442802496512310"
     },
     "user_tz": -60
    },
    "id": "7ff88a0b"
   },
   "outputs": [],
   "source": [
    "import pandas as pd"
   ]
  },
  {
   "cell_type": "code",
   "execution_count": null,
   "id": "03f90702",
   "metadata": {
    "executionInfo": {
     "elapsed": 8,
     "status": "ok",
     "timestamp": 1671201686685,
     "user": {
      "displayName": "Martín Nadal",
      "userId": "07858442802496512310"
     },
     "user_tz": -60
    },
    "id": "03f90702"
   },
   "outputs": [],
   "source": [
    "url = 'https://api.covid19api.com/countries'"
   ]
  },
  {
   "cell_type": "code",
   "execution_count": null,
   "id": "2a0d6e0a",
   "metadata": {
    "executionInfo": {
     "elapsed": 823,
     "status": "ok",
     "timestamp": 1671201689636,
     "user": {
      "displayName": "Martín Nadal",
      "userId": "07858442802496512310"
     },
     "user_tz": -60
    },
    "id": "2a0d6e0a"
   },
   "outputs": [],
   "source": [
    "df = pd.read_json(url)"
   ]
  },
  {
   "cell_type": "code",
   "execution_count": null,
   "id": "250f702b",
   "metadata": {
    "colab": {
     "base_uri": "https://localhost:8080/",
     "height": 423
    },
    "executionInfo": {
     "elapsed": 10,
     "status": "ok",
     "timestamp": 1671201691314,
     "user": {
      "displayName": "Martín Nadal",
      "userId": "07858442802496512310"
     },
     "user_tz": -60
    },
    "id": "250f702b",
    "outputId": "3df9fc80-dc22-4b06-d78e-1a2a01de4b4e"
   },
   "outputs": [],
   "source": [
    "df"
   ]
  },
  {
   "cell_type": "code",
   "execution_count": null,
   "id": "5357846b",
   "metadata": {
    "colab": {
     "base_uri": "https://localhost:8080/",
     "height": 206
    },
    "executionInfo": {
     "elapsed": 7,
     "status": "ok",
     "timestamp": 1671201697624,
     "user": {
      "displayName": "Martín Nadal",
      "userId": "07858442802496512310"
     },
     "user_tz": -60
    },
    "id": "5357846b",
    "outputId": "9a0f2d1d-ff35-444d-b227-124173dac4fc"
   },
   "outputs": [],
   "source": [
    "df.head()"
   ]
  },
  {
   "cell_type": "code",
   "execution_count": null,
   "id": "3e86ff3f",
   "metadata": {
    "colab": {
     "base_uri": "https://localhost:8080/",
     "height": 206
    },
    "executionInfo": {
     "elapsed": 374,
     "status": "ok",
     "timestamp": 1671201700205,
     "user": {
      "displayName": "Martín Nadal",
      "userId": "07858442802496512310"
     },
     "user_tz": -60
    },
    "id": "3e86ff3f",
    "outputId": "4bf9803b-783f-418b-9e5b-53d51bedb1a4"
   },
   "outputs": [],
   "source": [
    "df.tail()"
   ]
  },
  {
   "cell_type": "code",
   "execution_count": null,
   "id": "be305dec",
   "metadata": {
    "colab": {
     "base_uri": "https://localhost:8080/",
     "height": 36
    },
    "executionInfo": {
     "elapsed": 435,
     "status": "ok",
     "timestamp": 1671201702322,
     "user": {
      "displayName": "Martín Nadal",
      "userId": "07858442802496512310"
     },
     "user_tz": -60
    },
    "id": "be305dec",
    "outputId": "3d923907-2834-4058-a1c8-3acee39c03b6"
   },
   "outputs": [],
   "source": [
    "df['Country'][245]"
   ]
  },
  {
   "cell_type": "code",
   "execution_count": null,
   "id": "8082156c",
   "metadata": {
    "colab": {
     "base_uri": "https://localhost:8080/",
     "height": 80
    },
    "executionInfo": {
     "elapsed": 285,
     "status": "ok",
     "timestamp": 1671201704443,
     "user": {
      "displayName": "Martín Nadal",
      "userId": "07858442802496512310"
     },
     "user_tz": -60
    },
    "id": "8082156c",
    "outputId": "e7f69ffe-01dd-4622-8dbb-5ea91c93aa14"
   },
   "outputs": [],
   "source": [
    "df[df['Country'] == 'Spain']"
   ]
  },
  {
   "cell_type": "markdown",
   "id": "99c67557",
   "metadata": {
    "id": "99c67557"
   },
   "source": [
    "### Sudáfrica"
   ]
  },
  {
   "cell_type": "code",
   "execution_count": null,
   "id": "8b6b254e",
   "metadata": {
    "colab": {
     "base_uri": "https://localhost:8080/",
     "height": 423
    },
    "executionInfo": {
     "elapsed": 1393,
     "status": "ok",
     "timestamp": 1671201727664,
     "user": {
      "displayName": "Martín Nadal",
      "userId": "07858442802496512310"
     },
     "user_tz": -60
    },
    "id": "8b6b254e",
    "outputId": "5f938529-2876-438a-da77-55a7ef8752e2"
   },
   "outputs": [],
   "source": [
    "url = 'https://api.covid19api.com/country/south-africa/status/confirmed/live'\n",
    "sa = pd.read_json(url)\n",
    "sa"
   ]
  },
  {
   "cell_type": "markdown",
   "id": "b3fbdbd9",
   "metadata": {
    "id": "b3fbdbd9"
   },
   "source": [
    "set_index es como el key column de Refine"
   ]
  },
  {
   "cell_type": "code",
   "execution_count": null,
   "id": "f667c94e",
   "metadata": {
    "colab": {
     "base_uri": "https://localhost:8080/",
     "height": 423
    },
    "executionInfo": {
     "elapsed": 10,
     "status": "ok",
     "timestamp": 1671201740083,
     "user": {
      "displayName": "Martín Nadal",
      "userId": "07858442802496512310"
     },
     "user_tz": -60
    },
    "id": "f667c94e",
    "outputId": "92dbf9a0-66fd-43fe-cbc3-c88022c62276"
   },
   "outputs": [],
   "source": [
    "sa"
   ]
  },
  {
   "cell_type": "code",
   "execution_count": null,
   "id": "c0a75ca5",
   "metadata": {
    "colab": {
     "base_uri": "https://localhost:8080/",
     "height": 455
    },
    "executionInfo": {
     "elapsed": 8,
     "status": "ok",
     "timestamp": 1671201742425,
     "user": {
      "displayName": "Martín Nadal",
      "userId": "07858442802496512310"
     },
     "user_tz": -60
    },
    "id": "c0a75ca5",
    "outputId": "d6696f45-7560-4141-ef9a-7b80ad0db9e8"
   },
   "outputs": [],
   "source": [
    "sa.set_index('Date')"
   ]
  },
  {
   "cell_type": "markdown",
   "id": "9e2791fd",
   "metadata": {
    "id": "9e2791fd"
   },
   "source": [
    "En plot dibuja en x el indice"
   ]
  },
  {
   "cell_type": "code",
   "execution_count": null,
   "id": "cead3724",
   "metadata": {
    "colab": {
     "base_uri": "https://localhost:8080/"
    },
    "executionInfo": {
     "elapsed": 379,
     "status": "ok",
     "timestamp": 1671201749115,
     "user": {
      "displayName": "Martín Nadal",
      "userId": "07858442802496512310"
     },
     "user_tz": -60
    },
    "id": "cead3724",
    "outputId": "25d09070-c746-4036-e95e-be5cfa1cf36e"
   },
   "outputs": [],
   "source": [
    "sa.set_index('Date')['Cases']"
   ]
  },
  {
   "cell_type": "code",
   "execution_count": null,
   "id": "403ae7ab",
   "metadata": {
    "colab": {
     "base_uri": "https://localhost:8080/",
     "height": 305
    },
    "executionInfo": {
     "elapsed": 1193,
     "status": "ok",
     "timestamp": 1671201758659,
     "user": {
      "displayName": "Martín Nadal",
      "userId": "07858442802496512310"
     },
     "user_tz": -60
    },
    "id": "403ae7ab",
    "outputId": "b90ba39c-316a-4ac0-a2cf-4e6edc3766be",
    "scrolled": true,
    "tags": []
   },
   "outputs": [],
   "source": [
    "sa.set_index('Date')['Cases'].plot()"
   ]
  },
  {
   "cell_type": "markdown",
   "id": "629dd148",
   "metadata": {
    "id": "629dd148"
   },
   "source": [
    "## Alemania\n",
    "\n",
    "Ahora vamos a cargar los datos de Alemania"
   ]
  },
  {
   "cell_type": "code",
   "execution_count": null,
   "id": "7e532e77",
   "metadata": {
    "id": "7e532e77"
   },
   "outputs": [],
   "source": [
    "url = 'https://api.covid19api.com/country/germany/status/confirmed/live'\n",
    "de = pd.read_json(url)\n",
    "de"
   ]
  },
  {
   "cell_type": "code",
   "execution_count": null,
   "id": "ceee60c8",
   "metadata": {
    "id": "ceee60c8"
   },
   "outputs": [],
   "source": [
    "de.set_index('Date')['Cases'].plot()"
   ]
  },
  {
   "cell_type": "code",
   "execution_count": null,
   "id": "8c7f088a",
   "metadata": {
    "id": "8c7f088a"
   },
   "outputs": [],
   "source": [
    "casos_de = de.set_index('Date')['Cases']\n",
    "casos_sa = sa.set_index('Date')['Cases']"
   ]
  },
  {
   "cell_type": "code",
   "execution_count": null,
   "id": "e3ec12e5",
   "metadata": {
    "id": "e3ec12e5"
   },
   "outputs": [],
   "source": [
    "casos_de"
   ]
  },
  {
   "cell_type": "code",
   "execution_count": null,
   "id": "c3ed1b68",
   "metadata": {
    "id": "c3ed1b68"
   },
   "outputs": [],
   "source": [
    "casos_de = de.set_index('Date')['Cases']\n",
    "casos_sa = sa.set_index('Date')['Cases']"
   ]
  },
  {
   "cell_type": "code",
   "execution_count": null,
   "id": "37eb52a9",
   "metadata": {
    "id": "37eb52a9"
   },
   "outputs": [],
   "source": [
    "casos_sa"
   ]
  },
  {
   "cell_type": "markdown",
   "id": "a53b8755",
   "metadata": {
    "id": "a53b8755"
   },
   "source": [
    "concatenamos los dos"
   ]
  },
  {
   "cell_type": "code",
   "execution_count": null,
   "id": "930bcf32",
   "metadata": {
    "id": "930bcf32"
   },
   "outputs": [],
   "source": [
    "pd.concat([casos_de,casos_sa],axis=1)"
   ]
  },
  {
   "cell_type": "code",
   "execution_count": null,
   "id": "6bdef4b6",
   "metadata": {
    "id": "6bdef4b6"
   },
   "outputs": [],
   "source": [
    "agregados = pd.concat([casos_de,casos_sa],axis=1)"
   ]
  },
  {
   "cell_type": "code",
   "execution_count": null,
   "id": "cdd778a9",
   "metadata": {
    "id": "cdd778a9"
   },
   "outputs": [],
   "source": [
    "agregados.columns = ['alemania','sudafrica']"
   ]
  },
  {
   "cell_type": "code",
   "execution_count": null,
   "id": "2d48054f",
   "metadata": {
    "id": "2d48054f"
   },
   "outputs": [],
   "source": [
    "agregados.plot()"
   ]
  },
  {
   "cell_type": "code",
   "execution_count": null,
   "id": "556ff2e4",
   "metadata": {
    "id": "556ff2e4"
   },
   "outputs": [],
   "source": [
    "url = 'https://api.covid19api.com/country/spain/status/confirmed/live'\n",
    "es = pd.read_json(url)"
   ]
  },
  {
   "cell_type": "code",
   "execution_count": null,
   "id": "26d4c98d",
   "metadata": {
    "id": "26d4c98d"
   },
   "outputs": [],
   "source": [
    "casos_es = es.set_index('Date')['Cases']"
   ]
  },
  {
   "cell_type": "code",
   "execution_count": null,
   "id": "97b6a833",
   "metadata": {
    "id": "97b6a833"
   },
   "outputs": [],
   "source": [
    "agregados = pd.concat([casos_de,casos_sa,casos_es],axis=1)"
   ]
  },
  {
   "cell_type": "code",
   "execution_count": null,
   "id": "89018f86",
   "metadata": {
    "id": "89018f86"
   },
   "outputs": [],
   "source": [
    "agregados.columns = ['alemania','sudafrica','españa']\n",
    "agregados.plot()"
   ]
  },
  {
   "cell_type": "markdown",
   "id": "13ab620c",
   "metadata": {
    "id": "13ab620c"
   },
   "source": [
    "Esto es muy importante pues hemos recibido datos , trabajado con ellos y luego salvarlos en otro formato gracias a Pandas"
   ]
  },
  {
   "cell_type": "code",
   "execution_count": null,
   "id": "79fc513d",
   "metadata": {
    "id": "79fc513d"
   },
   "outputs": [],
   "source": [
    "agregados.to_csv('agregados_DE_SA_ES.csv')"
   ]
  },
  {
   "cell_type": "markdown",
   "id": "4c7e828c-5c01-4c0f-877c-f984aafe07da",
   "metadata": {
    "id": "c9008d23"
   },
   "source": [
    "# Maps"
   ]
  },
  {
   "cell_type": "code",
   "execution_count": null,
   "id": "0cf6acb8-122b-4675-9f55-23a8ef04625b",
   "metadata": {},
   "outputs": [],
   "source": [
    "import folium"
   ]
  },
  {
   "cell_type": "code",
   "execution_count": null,
   "id": "1e1553c3-eef2-461c-8350-8562532bdb43",
   "metadata": {},
   "outputs": [],
   "source": [
    "coords_SA = sa[['Lat','Lon']].iloc[0].values\n",
    "coords_DE = de[['Lat','Lon']].iloc[0].values\n",
    "coords_ES = es[['Lat','Lon']].iloc[0].values"
   ]
  },
  {
   "cell_type": "code",
   "execution_count": null,
   "id": "a061ad74-6f16-47a7-8393-b45364c97a73",
   "metadata": {},
   "outputs": [],
   "source": [
    "m = folium.Map(location=coords_DE,zoom_start=3)\n",
    "marker_DE = folium.Marker(location=coords_DE,tooltip=\"Alemania\")\n",
    "m.add_child(marker_DE)\n",
    "m"
   ]
  },
  {
   "cell_type": "code",
   "execution_count": null,
   "id": "b65aebf9-1f01-4d76-9a50-929f9afa0ede",
   "metadata": {},
   "outputs": [],
   "source": [
    "import pandas as pd\n",
    "\n",
    "url = (\n",
    "    \"https://raw.githubusercontent.com/python-visualization/folium/main/examples/data\"\n",
    ")\n",
    "state_geo = f\"{url}/us-states.json\"\n",
    "state_unemployment = f\"{url}/US_Unemployment_Oct2012.csv\"\n",
    "state_data = pd.read_csv(state_unemployment)\n",
    "\n",
    "m = folium.Map(location=[48, -102], zoom_start=3)\n",
    "\n",
    "folium.Choropleth(\n",
    "    geo_data=state_geo,\n",
    "    name=\"choropleth\",\n",
    "    data=state_data,\n",
    "    columns=[\"State\", \"Unemployment\"],\n",
    "    key_on=\"feature.id\",\n",
    "    fill_color=\"YlGn\",\n",
    "    fill_opacity=0.7,\n",
    "    line_opacity=0.2,\n",
    "    legend_name=\"Unemployment Rate (%)\",\n",
    ").add_to(m)\n",
    "\n",
    "folium.LayerControl().add_to(m)\n",
    "\n",
    "m\n"
   ]
  },
  {
   "cell_type": "code",
   "execution_count": null,
   "id": "58acbd7b-f253-4799-aaa4-931146da1b44",
   "metadata": {},
   "outputs": [],
   "source": []
  }
 ],
 "metadata": {
  "colab": {
   "provenance": []
  },
  "kernelspec": {
   "display_name": "Python 3 (ipykernel)",
   "language": "python",
   "name": "python3"
  },
  "language_info": {
   "codemirror_mode": {
    "name": "ipython",
    "version": 3
   },
   "file_extension": ".py",
   "mimetype": "text/x-python",
   "name": "python",
   "nbconvert_exporter": "python",
   "pygments_lexer": "ipython3",
   "version": "3.11.1"
  }
 },
 "nbformat": 4,
 "nbformat_minor": 5
}
