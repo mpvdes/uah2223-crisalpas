{
 "cells": [
  {
   "cell_type": "markdown",
   "id": "f99c050b",
   "metadata": {},
   "source": [
    "# Estadística básica"
   ]
  },
  {
   "cell_type": "markdown",
   "id": "8faca021",
   "metadata": {},
   "source": [
    "#### Conceptos básicos"
   ]
  },
  {
   "cell_type": "markdown",
   "id": "a0e7d9ad",
   "metadata": {},
   "source": [
    "Es importante distinguir las variables que vamos a usar y, por lo tanto, controlar los conceptos.\n",
    "El contenido aparece completo en los apuntes, pero, si añadimos información, aparecerá en este cuaderno."
   ]
  },
  {
   "cell_type": "markdown",
   "id": "b8e10a27",
   "metadata": {},
   "source": [
    "Si dividimos una muestra en intervalos, su **marca de clase** será la media entre los dos valores del intervalo. Estas marcas tienen como ventaja que se pueden utilizar en lugar del intervalo completo y nos dan los mismos resultados que si hiciéramos la media de cada número."
   ]
  },
  {
   "cell_type": "markdown",
   "id": "6921deaa",
   "metadata": {},
   "source": []
  },
  {
   "cell_type": "markdown",
   "id": "5dfde8fd",
   "metadata": {},
   "source": []
  },
  {
   "cell_type": "markdown",
   "id": "6e46fa7c",
   "metadata": {},
   "source": []
  }
 ],
 "metadata": {
  "kernelspec": {
   "display_name": "Python 3 (ipykernel)",
   "language": "python",
   "name": "python3"
  },
  "language_info": {
   "codemirror_mode": {
    "name": "ipython",
    "version": 3
   },
   "file_extension": ".py",
   "mimetype": "text/x-python",
   "name": "python",
   "nbconvert_exporter": "python",
   "pygments_lexer": "ipython3",
   "version": "3.11.1"
  }
 },
 "nbformat": 4,
 "nbformat_minor": 5
}
